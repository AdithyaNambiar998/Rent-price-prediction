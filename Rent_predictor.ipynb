{
 "cells": [
  {
   "cell_type": "code",
   "execution_count": 304,
   "id": "c29f60bb",
   "metadata": {
    "pycharm": {
     "name": "#%%\n"
    }
   },
   "outputs": [],
   "source": [
    "import pandas as pd\n",
    "import numpy as np"
   ]
  },
  {
   "cell_type": "markdown",
   "id": "8716c475",
   "metadata": {
    "pycharm": {
     "name": "#%% md\n"
    }
   },
   "source": [
    "# import data"
   ]
  },
  {
   "cell_type": "code",
   "execution_count": 305,
   "id": "67e1031d",
   "metadata": {
    "pycharm": {
     "name": "#%%\n"
    }
   },
   "outputs": [],
   "source": [
    "data = pd.read_csv('House_Rent_Dataset.csv')"
   ]
  },
  {
   "cell_type": "markdown",
   "id": "5bc3a0eb",
   "metadata": {
    "pycharm": {
     "name": "#%% md\n"
    }
   },
   "source": [
    "# inspect data"
   ]
  },
  {
   "cell_type": "code",
   "execution_count": 306,
   "id": "883505ac",
   "metadata": {
    "pycharm": {
     "name": "#%%\n"
    }
   },
   "outputs": [
    {
     "data": {
      "text/plain": "    Posted On  BHK     Rent    Size            Floor    Area Type  \\\n0  18-05-2022    2  10000.0  1100.0  Ground out of 2   Super Area   \n1  13-05-2022    2  20000.0   800.0       1 out of 3   Super Area   \n2  16-05-2022    2  17000.0  1000.0       1 out of 3   Super Area   \n3  04-07-2022    2  10000.0   800.0       1 out of 2   Super Area   \n4  09-05-2022    2   7500.0   850.0       1 out of 2  Carpet Area   \n\n              Area Locality     City Furnishing Status  Tenant Preferred  \\\n0                    Bandel  Kolkata       Unfurnished  Bachelors/Family   \n1  Phool Bagan, Kankurgachi  Kolkata    Semi-Furnished  Bachelors/Family   \n2   Salt Lake City Sector 2  Kolkata    Semi-Furnished  Bachelors/Family   \n3               Dumdum Park  Kolkata       Unfurnished  Bachelors/Family   \n4             South Dum Dum  Kolkata       Unfurnished         Bachelors   \n\n   Bathroom Point of Contact  \n0       2.0    Contact Owner  \n1       1.0    Contact Owner  \n2       1.0    Contact Owner  \n3       1.0    Contact Owner  \n4       1.0    Contact Owner  ",
      "text/html": "<div>\n<style scoped>\n    .dataframe tbody tr th:only-of-type {\n        vertical-align: middle;\n    }\n\n    .dataframe tbody tr th {\n        vertical-align: top;\n    }\n\n    .dataframe thead th {\n        text-align: right;\n    }\n</style>\n<table border=\"1\" class=\"dataframe\">\n  <thead>\n    <tr style=\"text-align: right;\">\n      <th></th>\n      <th>Posted On</th>\n      <th>BHK</th>\n      <th>Rent</th>\n      <th>Size</th>\n      <th>Floor</th>\n      <th>Area Type</th>\n      <th>Area Locality</th>\n      <th>City</th>\n      <th>Furnishing Status</th>\n      <th>Tenant Preferred</th>\n      <th>Bathroom</th>\n      <th>Point of Contact</th>\n    </tr>\n  </thead>\n  <tbody>\n    <tr>\n      <th>0</th>\n      <td>18-05-2022</td>\n      <td>2</td>\n      <td>10000.0</td>\n      <td>1100.0</td>\n      <td>Ground out of 2</td>\n      <td>Super Area</td>\n      <td>Bandel</td>\n      <td>Kolkata</td>\n      <td>Unfurnished</td>\n      <td>Bachelors/Family</td>\n      <td>2.0</td>\n      <td>Contact Owner</td>\n    </tr>\n    <tr>\n      <th>1</th>\n      <td>13-05-2022</td>\n      <td>2</td>\n      <td>20000.0</td>\n      <td>800.0</td>\n      <td>1 out of 3</td>\n      <td>Super Area</td>\n      <td>Phool Bagan, Kankurgachi</td>\n      <td>Kolkata</td>\n      <td>Semi-Furnished</td>\n      <td>Bachelors/Family</td>\n      <td>1.0</td>\n      <td>Contact Owner</td>\n    </tr>\n    <tr>\n      <th>2</th>\n      <td>16-05-2022</td>\n      <td>2</td>\n      <td>17000.0</td>\n      <td>1000.0</td>\n      <td>1 out of 3</td>\n      <td>Super Area</td>\n      <td>Salt Lake City Sector 2</td>\n      <td>Kolkata</td>\n      <td>Semi-Furnished</td>\n      <td>Bachelors/Family</td>\n      <td>1.0</td>\n      <td>Contact Owner</td>\n    </tr>\n    <tr>\n      <th>3</th>\n      <td>04-07-2022</td>\n      <td>2</td>\n      <td>10000.0</td>\n      <td>800.0</td>\n      <td>1 out of 2</td>\n      <td>Super Area</td>\n      <td>Dumdum Park</td>\n      <td>Kolkata</td>\n      <td>Unfurnished</td>\n      <td>Bachelors/Family</td>\n      <td>1.0</td>\n      <td>Contact Owner</td>\n    </tr>\n    <tr>\n      <th>4</th>\n      <td>09-05-2022</td>\n      <td>2</td>\n      <td>7500.0</td>\n      <td>850.0</td>\n      <td>1 out of 2</td>\n      <td>Carpet Area</td>\n      <td>South Dum Dum</td>\n      <td>Kolkata</td>\n      <td>Unfurnished</td>\n      <td>Bachelors</td>\n      <td>1.0</td>\n      <td>Contact Owner</td>\n    </tr>\n  </tbody>\n</table>\n</div>"
     },
     "execution_count": 306,
     "metadata": {},
     "output_type": "execute_result"
    }
   ],
   "source": [
    "data.head()"
   ]
  },
  {
   "cell_type": "code",
   "execution_count": 307,
   "id": "b6a50c74",
   "metadata": {
    "pycharm": {
     "name": "#%%\n"
    }
   },
   "outputs": [
    {
     "data": {
      "text/plain": "(4747, 12)"
     },
     "execution_count": 307,
     "metadata": {},
     "output_type": "execute_result"
    }
   ],
   "source": [
    "data.shape"
   ]
  },
  {
   "cell_type": "code",
   "execution_count": 308,
   "id": "191d1846",
   "metadata": {
    "pycharm": {
     "name": "#%%\n"
    }
   },
   "outputs": [
    {
     "name": "stdout",
     "output_type": "stream",
     "text": [
      "<class 'pandas.core.frame.DataFrame'>\n",
      "RangeIndex: 4747 entries, 0 to 4746\n",
      "Data columns (total 12 columns):\n",
      " #   Column             Non-Null Count  Dtype  \n",
      "---  ------             --------------  -----  \n",
      " 0   Posted On          4746 non-null   object \n",
      " 1   BHK                4747 non-null   int64  \n",
      " 2   Rent               4746 non-null   float64\n",
      " 3   Size               4746 non-null   float64\n",
      " 4   Floor              4746 non-null   object \n",
      " 5   Area Type          4746 non-null   object \n",
      " 6   Area Locality      4746 non-null   object \n",
      " 7   City               4746 non-null   object \n",
      " 8   Furnishing Status  4746 non-null   object \n",
      " 9   Tenant Preferred   4746 non-null   object \n",
      " 10  Bathroom           4746 non-null   float64\n",
      " 11  Point of Contact   4746 non-null   object \n",
      "dtypes: float64(3), int64(1), object(8)\n",
      "memory usage: 445.2+ KB\n"
     ]
    }
   ],
   "source": [
    "data.info()"
   ]
  },
  {
   "cell_type": "code",
   "execution_count": 309,
   "id": "50822cae",
   "metadata": {
    "pycharm": {
     "name": "#%%\n"
    }
   },
   "outputs": [
    {
     "name": "stdout",
     "output_type": "stream",
     "text": [
      "06-07-2022    311\n",
      "12-05-2022    149\n",
      "04-06-2022    135\n",
      "09-07-2022    126\n",
      "23-05-2022    125\n",
      "             ... \n",
      "24-04-2022      6\n",
      "25-04-2022      6\n",
      "26-04-2022      2\n",
      "13-04-2022      1\n",
      "11-07-2022      1\n",
      "Name: Posted On, Length: 81, dtype: int64\n",
      "********************\n",
      "2    2265\n",
      "1    1167\n",
      "3    1098\n",
      "4     189\n",
      "5      19\n",
      "6       9\n",
      "Name: BHK, dtype: int64\n",
      "********************\n",
      "15000.0    275\n",
      "10000.0    248\n",
      "12000.0    238\n",
      "20000.0    175\n",
      "8000.0     162\n",
      "          ... \n",
      "4600.0       1\n",
      "79500.0      1\n",
      "76000.0      1\n",
      "45002.0      1\n",
      "5800.0       1\n",
      "Name: Rent, Length: 243, dtype: int64\n",
      "********************\n",
      "1000.0    240\n",
      "600.0     225\n",
      "800.0     220\n",
      "1200.0    193\n",
      "500.0     192\n",
      "         ... \n",
      "2770.0      1\n",
      "1252.0      1\n",
      "904.0       1\n",
      "721.0       1\n",
      "855.0       1\n",
      "Name: Size, Length: 615, dtype: int64\n",
      "********************\n",
      "1 out of 2         379\n",
      "Ground out of 2    350\n",
      "2 out of 3         312\n",
      "2 out of 4         308\n",
      "1 out of 3         293\n",
      "                  ... \n",
      "11 out of 31         1\n",
      "50 out of 75         1\n",
      "18 out of 26         1\n",
      "12 out of 27         1\n",
      "23 out of 34         1\n",
      "Name: Floor, Length: 480, dtype: int64\n",
      "********************\n",
      "Super Area     2446\n",
      "Carpet Area    2298\n",
      "Built Area        2\n",
      "Name: Area Type, dtype: int64\n",
      "********************\n",
      "Bandra West                                37\n",
      "Gachibowli                                 29\n",
      "Electronic City                            24\n",
      "Velachery                                  22\n",
      "Miyapur, NH 9                              22\n",
      "                                           ..\n",
      "Kengeri Upanagara                           1\n",
      "Ittamadu, Banashankari, Outer Ring Road     1\n",
      "Rmv Extension, Armane Nagar                 1\n",
      "snv la                                      1\n",
      "Manikonda, Hyderabad                        1\n",
      "Name: Area Locality, Length: 2235, dtype: int64\n",
      "********************\n",
      "Mumbai       972\n",
      "Chennai      891\n",
      "Bangalore    886\n",
      "Hyderabad    868\n",
      "Delhi        605\n",
      "Kolkata      524\n",
      "Name: City, dtype: int64\n",
      "********************\n",
      "Semi-Furnished    2251\n",
      "Unfurnished       1815\n",
      "Furnished          680\n",
      "Name: Furnishing Status, dtype: int64\n",
      "********************\n",
      "Bachelors/Family    3444\n",
      "Bachelors            830\n",
      "Family               472\n",
      "Name: Tenant Preferred, dtype: int64\n",
      "********************\n",
      "2.0     2291\n",
      "1.0     1474\n",
      "3.0      749\n",
      "4.0      156\n",
      "5.0       60\n",
      "6.0       12\n",
      "7.0        3\n",
      "10.0       1\n",
      "Name: Bathroom, dtype: int64\n",
      "********************\n",
      "Contact Owner      3216\n",
      "Contact Agent      1529\n",
      "Contact Builder       1\n",
      "Name: Point of Contact, dtype: int64\n",
      "********************\n"
     ]
    }
   ],
   "source": [
    "for column in data.columns:\n",
    "    print(data[column].value_counts())\n",
    "    print(\"*\"*20)"
   ]
  },
  {
   "cell_type": "code",
   "execution_count": 310,
   "id": "83dccccb",
   "metadata": {
    "pycharm": {
     "name": "#%%\n"
    }
   },
   "outputs": [
    {
     "data": {
      "text/plain": "               BHK          Rent         Size     Bathroom\ncount  4747.000000  4.746000e+03  4746.000000  4746.000000\nmean      2.084685  3.499345e+04   967.490729     1.965866\nstd       0.834107  7.810641e+04   634.202328     0.884532\nmin       1.000000  1.200000e+03    10.000000     1.000000\n25%       2.000000  1.000000e+04   550.000000     1.000000\n50%       2.000000  1.600000e+04   850.000000     2.000000\n75%       3.000000  3.300000e+04  1200.000000     2.000000\nmax       6.000000  3.500000e+06  8000.000000    10.000000",
      "text/html": "<div>\n<style scoped>\n    .dataframe tbody tr th:only-of-type {\n        vertical-align: middle;\n    }\n\n    .dataframe tbody tr th {\n        vertical-align: top;\n    }\n\n    .dataframe thead th {\n        text-align: right;\n    }\n</style>\n<table border=\"1\" class=\"dataframe\">\n  <thead>\n    <tr style=\"text-align: right;\">\n      <th></th>\n      <th>BHK</th>\n      <th>Rent</th>\n      <th>Size</th>\n      <th>Bathroom</th>\n    </tr>\n  </thead>\n  <tbody>\n    <tr>\n      <th>count</th>\n      <td>4747.000000</td>\n      <td>4.746000e+03</td>\n      <td>4746.000000</td>\n      <td>4746.000000</td>\n    </tr>\n    <tr>\n      <th>mean</th>\n      <td>2.084685</td>\n      <td>3.499345e+04</td>\n      <td>967.490729</td>\n      <td>1.965866</td>\n    </tr>\n    <tr>\n      <th>std</th>\n      <td>0.834107</td>\n      <td>7.810641e+04</td>\n      <td>634.202328</td>\n      <td>0.884532</td>\n    </tr>\n    <tr>\n      <th>min</th>\n      <td>1.000000</td>\n      <td>1.200000e+03</td>\n      <td>10.000000</td>\n      <td>1.000000</td>\n    </tr>\n    <tr>\n      <th>25%</th>\n      <td>2.000000</td>\n      <td>1.000000e+04</td>\n      <td>550.000000</td>\n      <td>1.000000</td>\n    </tr>\n    <tr>\n      <th>50%</th>\n      <td>2.000000</td>\n      <td>1.600000e+04</td>\n      <td>850.000000</td>\n      <td>2.000000</td>\n    </tr>\n    <tr>\n      <th>75%</th>\n      <td>3.000000</td>\n      <td>3.300000e+04</td>\n      <td>1200.000000</td>\n      <td>2.000000</td>\n    </tr>\n    <tr>\n      <th>max</th>\n      <td>6.000000</td>\n      <td>3.500000e+06</td>\n      <td>8000.000000</td>\n      <td>10.000000</td>\n    </tr>\n  </tbody>\n</table>\n</div>"
     },
     "execution_count": 310,
     "metadata": {},
     "output_type": "execute_result"
    }
   ],
   "source": [
    "data.describe()"
   ]
  },
  {
   "cell_type": "code",
   "execution_count": 311,
   "id": "f349c1e3",
   "metadata": {
    "pycharm": {
     "name": "#%%\n"
    }
   },
   "outputs": [
    {
     "name": "stdout",
     "output_type": "stream",
     "text": [
      "<class 'pandas.core.frame.DataFrame'>\n",
      "RangeIndex: 4747 entries, 0 to 4746\n",
      "Data columns (total 12 columns):\n",
      " #   Column             Non-Null Count  Dtype  \n",
      "---  ------             --------------  -----  \n",
      " 0   Posted On          4746 non-null   object \n",
      " 1   BHK                4747 non-null   int64  \n",
      " 2   Rent               4746 non-null   float64\n",
      " 3   Size               4746 non-null   float64\n",
      " 4   Floor              4746 non-null   object \n",
      " 5   Area Type          4746 non-null   object \n",
      " 6   Area Locality      4746 non-null   object \n",
      " 7   City               4746 non-null   object \n",
      " 8   Furnishing Status  4746 non-null   object \n",
      " 9   Tenant Preferred   4746 non-null   object \n",
      " 10  Bathroom           4746 non-null   float64\n",
      " 11  Point of Contact   4746 non-null   object \n",
      "dtypes: float64(3), int64(1), object(8)\n",
      "memory usage: 445.2+ KB\n"
     ]
    }
   ],
   "source": [
    "data.info()"
   ]
  },
  {
   "cell_type": "code",
   "execution_count": 312,
   "id": "d6010be5",
   "metadata": {
    "pycharm": {
     "name": "#%%\n"
    }
   },
   "outputs": [
    {
     "data": {
      "text/plain": "Mumbai       972\nChennai      891\nBangalore    886\nHyderabad    868\nDelhi        605\nKolkata      524\nName: City, dtype: int64"
     },
     "execution_count": 312,
     "metadata": {},
     "output_type": "execute_result"
    }
   ],
   "source": [
    "data['City'].value_counts()"
   ]
  },
  {
   "cell_type": "code",
   "execution_count": 313,
   "id": "98b51b06",
   "metadata": {
    "pycharm": {
     "name": "#%%\n"
    }
   },
   "outputs": [
    {
     "data": {
      "text/plain": "4746"
     },
     "execution_count": 313,
     "metadata": {},
     "output_type": "execute_result"
    }
   ],
   "source": [
    "sum(data['City'].value_counts())"
   ]
  },
  {
   "cell_type": "markdown",
   "id": "bd91abda",
   "metadata": {
    "pycharm": {
     "name": "#%% md\n"
    }
   },
   "source": [
    "# check for empty data"
   ]
  },
  {
   "cell_type": "code",
   "execution_count": 314,
   "id": "f8b6bb40",
   "metadata": {
    "pycharm": {
     "name": "#%%\n"
    }
   },
   "outputs": [
    {
     "name": "stdout",
     "output_type": "stream",
     "text": [
      "col:Posted On 4746\n",
      "col:BHK 4747\n",
      "col:Rent 4746\n",
      "col:Size 4746\n",
      "col:Floor 4746\n",
      "col:Area Type 4746\n",
      "col:Area Locality 4746\n",
      "col:City 4746\n",
      "col:Furnishing Status 4746\n",
      "col:Tenant Preferred 4746\n",
      "col:Bathroom 4746\n",
      "col:Point of Contact 4746\n"
     ]
    }
   ],
   "source": [
    "for column in data.columns:\n",
    "    print(f'col:{column}', sum(data[column].value_counts()))"
   ]
  },
  {
   "cell_type": "markdown",
   "id": "6120bdbf",
   "metadata": {
    "pycharm": {
     "name": "#%% md\n"
    }
   },
   "source": [
    "# check for data validity"
   ]
  },
  {
   "cell_type": "code",
   "execution_count": 315,
   "id": "82fc92e7",
   "metadata": {
    "pycharm": {
     "name": "#%%\n"
    }
   },
   "outputs": [
    {
     "data": {
      "text/plain": "               BHK          Rent         Size     Bathroom\ncount  4747.000000  4.746000e+03  4746.000000  4746.000000\nmean      2.084685  3.499345e+04   967.490729     1.965866\nstd       0.834107  7.810641e+04   634.202328     0.884532\nmin       1.000000  1.200000e+03    10.000000     1.000000\n25%       2.000000  1.000000e+04   550.000000     1.000000\n50%       2.000000  1.600000e+04   850.000000     2.000000\n75%       3.000000  3.300000e+04  1200.000000     2.000000\nmax       6.000000  3.500000e+06  8000.000000    10.000000",
      "text/html": "<div>\n<style scoped>\n    .dataframe tbody tr th:only-of-type {\n        vertical-align: middle;\n    }\n\n    .dataframe tbody tr th {\n        vertical-align: top;\n    }\n\n    .dataframe thead th {\n        text-align: right;\n    }\n</style>\n<table border=\"1\" class=\"dataframe\">\n  <thead>\n    <tr style=\"text-align: right;\">\n      <th></th>\n      <th>BHK</th>\n      <th>Rent</th>\n      <th>Size</th>\n      <th>Bathroom</th>\n    </tr>\n  </thead>\n  <tbody>\n    <tr>\n      <th>count</th>\n      <td>4747.000000</td>\n      <td>4.746000e+03</td>\n      <td>4746.000000</td>\n      <td>4746.000000</td>\n    </tr>\n    <tr>\n      <th>mean</th>\n      <td>2.084685</td>\n      <td>3.499345e+04</td>\n      <td>967.490729</td>\n      <td>1.965866</td>\n    </tr>\n    <tr>\n      <th>std</th>\n      <td>0.834107</td>\n      <td>7.810641e+04</td>\n      <td>634.202328</td>\n      <td>0.884532</td>\n    </tr>\n    <tr>\n      <th>min</th>\n      <td>1.000000</td>\n      <td>1.200000e+03</td>\n      <td>10.000000</td>\n      <td>1.000000</td>\n    </tr>\n    <tr>\n      <th>25%</th>\n      <td>2.000000</td>\n      <td>1.000000e+04</td>\n      <td>550.000000</td>\n      <td>1.000000</td>\n    </tr>\n    <tr>\n      <th>50%</th>\n      <td>2.000000</td>\n      <td>1.600000e+04</td>\n      <td>850.000000</td>\n      <td>2.000000</td>\n    </tr>\n    <tr>\n      <th>75%</th>\n      <td>3.000000</td>\n      <td>3.300000e+04</td>\n      <td>1200.000000</td>\n      <td>2.000000</td>\n    </tr>\n    <tr>\n      <th>max</th>\n      <td>6.000000</td>\n      <td>3.500000e+06</td>\n      <td>8000.000000</td>\n      <td>10.000000</td>\n    </tr>\n  </tbody>\n</table>\n</div>"
     },
     "execution_count": 315,
     "metadata": {},
     "output_type": "execute_result"
    }
   ],
   "source": [
    " data.describe()"
   ]
  },
  {
   "cell_type": "code",
   "execution_count": 316,
   "id": "713fa971",
   "metadata": {
    "pycharm": {
     "name": "#%%\n"
    }
   },
   "outputs": [
    {
     "data": {
      "text/plain": "count    4746.000000\nmean      458.454263\nstd       211.596397\nmin         3.333333\n25%       350.000000\n50%       450.000000\n75%       550.000000\nmax      8000.000000\ndtype: float64"
     },
     "execution_count": 316,
     "metadata": {},
     "output_type": "execute_result"
    }
   ],
   "source": [
    "(data['Size']/data['BHK']).describe()"
   ]
  },
  {
   "cell_type": "markdown",
   "id": "3ee37626",
   "metadata": {
    "pycharm": {
     "name": "#%% md\n"
    }
   },
   "source": [
    "# cleaning data"
   ]
  },
  {
   "cell_type": "markdown",
   "id": "8c5ea20e",
   "metadata": {
    "pycharm": {
     "name": "#%% md\n"
    }
   },
   "source": [
    "eliminate wrong data , here set min area per BHK as >=100 ( data from : https://civilsir.com/minimum-standard-size-of-room-in-residential-building/)"
   ]
  },
  {
   "cell_type": "code",
   "execution_count": 317,
   "id": "79a197b3",
   "metadata": {
    "pycharm": {
     "name": "#%%\n"
    }
   },
   "outputs": [],
   "source": [
    "data['rent_per_sqft'] = data['Rent']/data['Size']"
   ]
  },
  {
   "cell_type": "code",
   "execution_count": 318,
   "id": "6b123431",
   "metadata": {
    "scrolled": true,
    "pycharm": {
     "name": "#%%\n"
    }
   },
   "outputs": [
    {
     "data": {
      "text/plain": "               BHK          Rent         Size     Bathroom  rent_per_sqft\ncount  4747.000000  4.746000e+03  4746.000000  4746.000000    4746.000000\nmean      2.084685  3.499345e+04   967.490729     1.965866      39.257087\nstd       0.834107  7.810641e+04   634.202328     0.884532      59.855230\nmin       1.000000  1.200000e+03    10.000000     1.000000       0.571429\n25%       2.000000  1.000000e+04   550.000000     1.000000      13.333333\n50%       2.000000  1.600000e+04   850.000000     2.000000      20.000000\n75%       3.000000  3.300000e+04  1200.000000     2.000000      42.005986\nmax       6.000000  3.500000e+06  8000.000000    10.000000    1500.000000",
      "text/html": "<div>\n<style scoped>\n    .dataframe tbody tr th:only-of-type {\n        vertical-align: middle;\n    }\n\n    .dataframe tbody tr th {\n        vertical-align: top;\n    }\n\n    .dataframe thead th {\n        text-align: right;\n    }\n</style>\n<table border=\"1\" class=\"dataframe\">\n  <thead>\n    <tr style=\"text-align: right;\">\n      <th></th>\n      <th>BHK</th>\n      <th>Rent</th>\n      <th>Size</th>\n      <th>Bathroom</th>\n      <th>rent_per_sqft</th>\n    </tr>\n  </thead>\n  <tbody>\n    <tr>\n      <th>count</th>\n      <td>4747.000000</td>\n      <td>4.746000e+03</td>\n      <td>4746.000000</td>\n      <td>4746.000000</td>\n      <td>4746.000000</td>\n    </tr>\n    <tr>\n      <th>mean</th>\n      <td>2.084685</td>\n      <td>3.499345e+04</td>\n      <td>967.490729</td>\n      <td>1.965866</td>\n      <td>39.257087</td>\n    </tr>\n    <tr>\n      <th>std</th>\n      <td>0.834107</td>\n      <td>7.810641e+04</td>\n      <td>634.202328</td>\n      <td>0.884532</td>\n      <td>59.855230</td>\n    </tr>\n    <tr>\n      <th>min</th>\n      <td>1.000000</td>\n      <td>1.200000e+03</td>\n      <td>10.000000</td>\n      <td>1.000000</td>\n      <td>0.571429</td>\n    </tr>\n    <tr>\n      <th>25%</th>\n      <td>2.000000</td>\n      <td>1.000000e+04</td>\n      <td>550.000000</td>\n      <td>1.000000</td>\n      <td>13.333333</td>\n    </tr>\n    <tr>\n      <th>50%</th>\n      <td>2.000000</td>\n      <td>1.600000e+04</td>\n      <td>850.000000</td>\n      <td>2.000000</td>\n      <td>20.000000</td>\n    </tr>\n    <tr>\n      <th>75%</th>\n      <td>3.000000</td>\n      <td>3.300000e+04</td>\n      <td>1200.000000</td>\n      <td>2.000000</td>\n      <td>42.005986</td>\n    </tr>\n    <tr>\n      <th>max</th>\n      <td>6.000000</td>\n      <td>3.500000e+06</td>\n      <td>8000.000000</td>\n      <td>10.000000</td>\n      <td>1500.000000</td>\n    </tr>\n  </tbody>\n</table>\n</div>"
     },
     "execution_count": 318,
     "metadata": {},
     "output_type": "execute_result"
    }
   ],
   "source": [
    "data.describe()"
   ]
  },
  {
   "cell_type": "code",
   "execution_count": 319,
   "id": "2c39382f",
   "metadata": {
    "pycharm": {
     "name": "#%%\n"
    }
   },
   "outputs": [
    {
     "data": {
      "text/plain": "               BHK          Rent         Size     Bathroom  rent_per_sqft\ncount  4596.000000  4.596000e+03  4596.000000  4596.000000    4596.000000\nmean      2.082028  3.552144e+04   996.071366     1.972150      33.798667\nstd       0.835043  7.922626e+04   624.040033     0.888867      42.577223\nmin       1.000000  1.200000e+03    70.000000     1.000000       0.571429\n25%       2.000000  1.000000e+04   600.000000     1.000000      13.333333\n50%       2.000000  1.600000e+04   869.000000     2.000000      19.000000\n75%       3.000000  3.400000e+04  1200.000000     2.000000      37.142857\nmax       6.000000  3.500000e+06  8000.000000    10.000000    1400.000000",
      "text/html": "<div>\n<style scoped>\n    .dataframe tbody tr th:only-of-type {\n        vertical-align: middle;\n    }\n\n    .dataframe tbody tr th {\n        vertical-align: top;\n    }\n\n    .dataframe thead th {\n        text-align: right;\n    }\n</style>\n<table border=\"1\" class=\"dataframe\">\n  <thead>\n    <tr style=\"text-align: right;\">\n      <th></th>\n      <th>BHK</th>\n      <th>Rent</th>\n      <th>Size</th>\n      <th>Bathroom</th>\n      <th>rent_per_sqft</th>\n    </tr>\n  </thead>\n  <tbody>\n    <tr>\n      <th>count</th>\n      <td>4596.000000</td>\n      <td>4.596000e+03</td>\n      <td>4596.000000</td>\n      <td>4596.000000</td>\n      <td>4596.000000</td>\n    </tr>\n    <tr>\n      <th>mean</th>\n      <td>2.082028</td>\n      <td>3.552144e+04</td>\n      <td>996.071366</td>\n      <td>1.972150</td>\n      <td>33.798667</td>\n    </tr>\n    <tr>\n      <th>std</th>\n      <td>0.835043</td>\n      <td>7.922626e+04</td>\n      <td>624.040033</td>\n      <td>0.888867</td>\n      <td>42.577223</td>\n    </tr>\n    <tr>\n      <th>min</th>\n      <td>1.000000</td>\n      <td>1.200000e+03</td>\n      <td>70.000000</td>\n      <td>1.000000</td>\n      <td>0.571429</td>\n    </tr>\n    <tr>\n      <th>25%</th>\n      <td>2.000000</td>\n      <td>1.000000e+04</td>\n      <td>600.000000</td>\n      <td>1.000000</td>\n      <td>13.333333</td>\n    </tr>\n    <tr>\n      <th>50%</th>\n      <td>2.000000</td>\n      <td>1.600000e+04</td>\n      <td>869.000000</td>\n      <td>2.000000</td>\n      <td>19.000000</td>\n    </tr>\n    <tr>\n      <th>75%</th>\n      <td>3.000000</td>\n      <td>3.400000e+04</td>\n      <td>1200.000000</td>\n      <td>2.000000</td>\n      <td>37.142857</td>\n    </tr>\n    <tr>\n      <th>max</th>\n      <td>6.000000</td>\n      <td>3.500000e+06</td>\n      <td>8000.000000</td>\n      <td>10.000000</td>\n      <td>1400.000000</td>\n    </tr>\n  </tbody>\n</table>\n</div>"
     },
     "execution_count": 319,
     "metadata": {},
     "output_type": "execute_result"
    }
   ],
   "source": [
    "data = data[((data['Size']/data['BHK']) >= 70)]\n",
    "data.describe()"
   ]
  },
  {
   "cell_type": "code",
   "execution_count": 320,
   "id": "4b54db02",
   "metadata": {
    "pycharm": {
     "name": "#%%\n"
    }
   },
   "outputs": [
    {
     "data": {
      "text/plain": "(4596, 13)"
     },
     "execution_count": 320,
     "metadata": {},
     "output_type": "execute_result"
    }
   ],
   "source": [
    "data.shape"
   ]
  },
  {
   "cell_type": "code",
   "execution_count": 321,
   "id": "c3f01873",
   "metadata": {
    "pycharm": {
     "name": "#%%\n"
    }
   },
   "outputs": [
    {
     "data": {
      "text/plain": "               BHK          Rent         Size     Bathroom  rent_per_sqft\ncount  4215.000000  4.215000e+03  4215.000000  4215.000000    4215.000000\nmean      2.089680  3.794751e+04   987.339027     1.994543      36.125029\nstd       0.848251  8.229293e+04   636.592245     0.904410      43.717786\nmin       1.000000  3.000000e+03    70.000000     1.000000      10.000000\n25%       1.000000  1.100000e+04   585.500000     1.000000      14.545455\n50%       2.000000  1.800000e+04   850.000000     2.000000      20.000000\n75%       3.000000  3.500000e+04  1200.000000     2.000000      40.824916\nmax       6.000000  3.500000e+06  8000.000000    10.000000    1400.000000",
      "text/html": "<div>\n<style scoped>\n    .dataframe tbody tr th:only-of-type {\n        vertical-align: middle;\n    }\n\n    .dataframe tbody tr th {\n        vertical-align: top;\n    }\n\n    .dataframe thead th {\n        text-align: right;\n    }\n</style>\n<table border=\"1\" class=\"dataframe\">\n  <thead>\n    <tr style=\"text-align: right;\">\n      <th></th>\n      <th>BHK</th>\n      <th>Rent</th>\n      <th>Size</th>\n      <th>Bathroom</th>\n      <th>rent_per_sqft</th>\n    </tr>\n  </thead>\n  <tbody>\n    <tr>\n      <th>count</th>\n      <td>4215.000000</td>\n      <td>4.215000e+03</td>\n      <td>4215.000000</td>\n      <td>4215.000000</td>\n      <td>4215.000000</td>\n    </tr>\n    <tr>\n      <th>mean</th>\n      <td>2.089680</td>\n      <td>3.794751e+04</td>\n      <td>987.339027</td>\n      <td>1.994543</td>\n      <td>36.125029</td>\n    </tr>\n    <tr>\n      <th>std</th>\n      <td>0.848251</td>\n      <td>8.229293e+04</td>\n      <td>636.592245</td>\n      <td>0.904410</td>\n      <td>43.717786</td>\n    </tr>\n    <tr>\n      <th>min</th>\n      <td>1.000000</td>\n      <td>3.000000e+03</td>\n      <td>70.000000</td>\n      <td>1.000000</td>\n      <td>10.000000</td>\n    </tr>\n    <tr>\n      <th>25%</th>\n      <td>1.000000</td>\n      <td>1.100000e+04</td>\n      <td>585.500000</td>\n      <td>1.000000</td>\n      <td>14.545455</td>\n    </tr>\n    <tr>\n      <th>50%</th>\n      <td>2.000000</td>\n      <td>1.800000e+04</td>\n      <td>850.000000</td>\n      <td>2.000000</td>\n      <td>20.000000</td>\n    </tr>\n    <tr>\n      <th>75%</th>\n      <td>3.000000</td>\n      <td>3.500000e+04</td>\n      <td>1200.000000</td>\n      <td>2.000000</td>\n      <td>40.824916</td>\n    </tr>\n    <tr>\n      <th>max</th>\n      <td>6.000000</td>\n      <td>3.500000e+06</td>\n      <td>8000.000000</td>\n      <td>10.000000</td>\n      <td>1400.000000</td>\n    </tr>\n  </tbody>\n</table>\n</div>"
     },
     "execution_count": 321,
     "metadata": {},
     "output_type": "execute_result"
    }
   ],
   "source": [
    "data = data[((data['rent_per_sqft']) >= 10)]\n",
    "data.describe()"
   ]
  },
  {
   "cell_type": "code",
   "execution_count": 322,
   "id": "6f1f5316",
   "metadata": {
    "pycharm": {
     "name": "#%%\n"
    }
   },
   "outputs": [
    {
     "data": {
      "text/plain": "(4215, 13)"
     },
     "execution_count": 322,
     "metadata": {},
     "output_type": "execute_result"
    }
   ],
   "source": [
    "data.shape"
   ]
  },
  {
   "cell_type": "markdown",
   "id": "b58c10dc",
   "metadata": {
    "pycharm": {
     "name": "#%% md\n"
    }
   },
   "source": [
    "# remove outliers"
   ]
  },
  {
   "cell_type": "markdown",
   "id": "04cddf25",
   "metadata": {
    "pycharm": {
     "name": "#%% md\n"
    }
   },
   "source": [
    "remove data sets outside +/- std dev from mean"
   ]
  },
  {
   "cell_type": "code",
   "execution_count": 323,
   "id": "c1356b96",
   "metadata": {
    "pycharm": {
     "name": "#%%\n"
    }
   },
   "outputs": [
    {
     "data": {
      "text/plain": "               BHK           Rent         Size     Bathroom  rent_per_sqft\ncount  3838.000000    3838.000000  3838.000000  3838.000000    3838.000000\nmean      2.061751   28950.901511   968.258989     1.947368      30.054791\nstd       0.812716   35082.339266   580.095148     0.852011      25.106231\nmin       1.000000    3000.000000    90.000000     1.000000      10.000000\n25%       1.000000   11000.000000   600.000000     1.000000      14.117647\n50%       2.000000   17000.000000   850.000000     2.000000      19.177429\n75%       3.000000   32000.000000  1200.000000     2.000000      33.333333\nmax       6.000000  350000.000000  8000.000000    10.000000     123.076923",
      "text/html": "<div>\n<style scoped>\n    .dataframe tbody tr th:only-of-type {\n        vertical-align: middle;\n    }\n\n    .dataframe tbody tr th {\n        vertical-align: top;\n    }\n\n    .dataframe thead th {\n        text-align: right;\n    }\n</style>\n<table border=\"1\" class=\"dataframe\">\n  <thead>\n    <tr style=\"text-align: right;\">\n      <th></th>\n      <th>BHK</th>\n      <th>Rent</th>\n      <th>Size</th>\n      <th>Bathroom</th>\n      <th>rent_per_sqft</th>\n    </tr>\n  </thead>\n  <tbody>\n    <tr>\n      <th>count</th>\n      <td>3838.000000</td>\n      <td>3838.000000</td>\n      <td>3838.000000</td>\n      <td>3838.000000</td>\n      <td>3838.000000</td>\n    </tr>\n    <tr>\n      <th>mean</th>\n      <td>2.061751</td>\n      <td>28950.901511</td>\n      <td>968.258989</td>\n      <td>1.947368</td>\n      <td>30.054791</td>\n    </tr>\n    <tr>\n      <th>std</th>\n      <td>0.812716</td>\n      <td>35082.339266</td>\n      <td>580.095148</td>\n      <td>0.852011</td>\n      <td>25.106231</td>\n    </tr>\n    <tr>\n      <th>min</th>\n      <td>1.000000</td>\n      <td>3000.000000</td>\n      <td>90.000000</td>\n      <td>1.000000</td>\n      <td>10.000000</td>\n    </tr>\n    <tr>\n      <th>25%</th>\n      <td>1.000000</td>\n      <td>11000.000000</td>\n      <td>600.000000</td>\n      <td>1.000000</td>\n      <td>14.117647</td>\n    </tr>\n    <tr>\n      <th>50%</th>\n      <td>2.000000</td>\n      <td>17000.000000</td>\n      <td>850.000000</td>\n      <td>2.000000</td>\n      <td>19.177429</td>\n    </tr>\n    <tr>\n      <th>75%</th>\n      <td>3.000000</td>\n      <td>32000.000000</td>\n      <td>1200.000000</td>\n      <td>2.000000</td>\n      <td>33.333333</td>\n    </tr>\n    <tr>\n      <th>max</th>\n      <td>6.000000</td>\n      <td>350000.000000</td>\n      <td>8000.000000</td>\n      <td>10.000000</td>\n      <td>123.076923</td>\n    </tr>\n  </tbody>\n</table>\n</div>"
     },
     "execution_count": 323,
     "metadata": {},
     "output_type": "execute_result"
    }
   ],
   "source": [
    "def outlier_sizes_remove(df):\n",
    "    df_output = pd.DataFrame()\n",
    "    for key , subdf in df.groupby('City'):\n",
    "        \n",
    "        m = np.mean(subdf.rent_per_sqft)\n",
    "        \n",
    "        st = np.std(subdf.rent_per_sqft)\n",
    "        \n",
    "        gen_df = subdf[(subdf.rent_per_sqft > (m-st)) & (subdf.rent_per_sqft <= (m+st))]\n",
    "        df_output = pd.concat([df_output, gen_df], ignore_index= True)\n",
    "    return df_output\n",
    "data =  outlier_sizes_remove(data)\n",
    "data.describe()"
   ]
  },
  {
   "cell_type": "code",
   "execution_count": 324,
   "id": "d5a0ba52",
   "metadata": {
    "pycharm": {
     "name": "#%%\n"
    }
   },
   "outputs": [],
   "source": [
    "def bhk_outlier_remover(df):\n",
    "    exclude_indices = np.array([])\n",
    "    for City , City_df in df.groupby('City'):\n",
    "        bhk_stats = {}\n",
    "        for bhk , bhk_df in City_df.groupby('BHK'):\n",
    "            bhk_stats[bhk] = {\n",
    "                'mean' : np.mean(bhk_df.rent_per_sqft), \n",
    "                'std' : np.std(bhk_df.rent_per_sqft),\n",
    "                'count' : bhk_df.shape[0]\n",
    "            }\n",
    "            \n",
    "        print (City ,bhk_stats)\n",
    "        for bhk , bhk_df in City_df.groupby('BHK'):\n",
    "            stats = bhk_stats[bhk]\n",
    "            if stats and stats['count']>5:\n",
    "                exclude_indices = np.append(exclude_indices , bhk_df[bhk_df.rent_per_sqft < (stats['mean'])].index.values)\n",
    "    return df.drop(exclude_indices , axis = 'index')"
   ]
  },
  {
   "cell_type": "code",
   "execution_count": 325,
   "id": "c9225d1e",
   "metadata": {
    "pycharm": {
     "name": "#%%\n"
    }
   },
   "outputs": [
    {
     "name": "stdout",
     "output_type": "stream",
     "text": [
      "Bangalore {1: {'mean': 20.327035605075366, 'std': 9.330449283346413, 'count': 250}, 2: {'mean': 18.07571429507004, 'std': 6.985523531827928, 'count': 403}, 3: {'mean': 22.82900871895051, 'std': 9.386809445106433, 'count': 157}, 4: {'mean': 30.027563430699878, 'std': 12.142852539885988, 'count': 22}}\n",
      "Chennai {1: {'mean': 18.52639004718011, 'std': 7.646366662845953, 'count': 142}, 2: {'mean': 17.3349228362081, 'std': 5.916529231451819, 'count': 436}, 3: {'mean': 20.07466369353333, 'std': 7.241454882033117, 'count': 191}, 4: {'mean': 24.250563477674227, 'std': 8.944587640375714, 'count': 14}, 5: {'mean': 15.90909090909091, 'std': 0.7575757575757578, 'count': 2}, 6: {'mean': 33.333333333333336, 'std': 0.0, 'count': 1}}\n",
      "Delhi {1: {'mean': 28.48542922357433, 'std': 13.397139444929099, 'count': 133}, 2: {'mean': 24.40206265471731, 'std': 9.530616555593156, 'count': 184}, 3: {'mean': 28.69615279376229, 'std': 13.526889415272423, 'count': 118}, 4: {'mean': 34.04405855967218, 'std': 18.38138108490577, 'count': 25}}\n",
      "Hyderabad {1: {'mean': 16.52377838997399, 'std': 4.780677984642386, 'count': 114}, 2: {'mean': 14.953755725786454, 'std': 4.157440938122286, 'count': 296}, 3: {'mean': 17.021191984067602, 'std': 5.2815154696999755, 'count': 201}, 4: {'mean': 18.30031816788728, 'std': 5.566517106272782, 'count': 14}, 5: {'mean': 16.925465838509318, 'std': 2.6397515527950306, 'count': 2}, 6: {'mean': 16.500155617802676, 'std': 4.634526515974396, 'count': 3}}\n",
      "Kolkata {1: {'mean': 16.39428969820797, 'std': 4.933806475658224, 'count': 110}, 2: {'mean': 14.604077199105232, 'std': 3.983441034804374, 'count': 200}, 3: {'mean': 16.3634647260391, 'std': 5.1166318218900075, 'count': 66}, 4: {'mean': 19.166666666666668, 'std': 5.12996597707294, 'count': 6}, 5: {'mean': 18.367686170212764, 'std': 5.069813829787234, 'count': 2}, 6: {'mean': 20.0, 'std': 0.0, 'count': 1}}\n",
      "Mumbai {1: {'mean': 69.56617922027698, 'std': 18.927151746752244, 'count': 221}, 2: {'mean': 71.92161323833237, 'std': 19.539638526190544, 'count': 304}, 3: {'mean': 80.44017536100046, 'std': 21.346720910306757, 'count': 169}, 4: {'mean': 95.79019523039483, 'std': 18.360948246347093, 'count': 48}, 5: {'mean': 106.13553113553114, 'std': 4.510479983891848, 'count': 3}}\n"
     ]
    }
   ],
   "source": [
    "data = bhk_outlier_remover(data)"
   ]
  },
  {
   "cell_type": "code",
   "execution_count": 326,
   "id": "602f06e9",
   "metadata": {
    "pycharm": {
     "name": "#%%\n"
    }
   },
   "outputs": [
    {
     "data": {
      "text/plain": "<bound method NDFrame.describe of        Posted On  BHK      Rent    Size            Floor    Area Type  \\\n12    04-05-2022    1    8000.0   350.0       3 out of 3   Super Area   \n14    06-07-2022    3   50000.0  2000.0       1 out of 2  Carpet Area   \n15    09-05-2022    2   13000.0   700.0       1 out of 4   Super Area   \n16    20-05-2022    1   13500.0   600.0       1 out of 4   Super Area   \n17    16-06-2022    2   13000.0   700.0  Ground out of 1  Carpet Area   \n...          ...  ...       ...     ...              ...          ...   \n3824  20-06-2022    1   45000.0   480.0       7 out of 7  Carpet Area   \n3826  07-07-2022    2   90000.0   900.0     60 out of 71  Carpet Area   \n3828  09-07-2022    2   70000.0   760.0      9 out of 22  Carpet Area   \n3831  25-05-2022    4  280000.0  2500.0     24 out of 60  Carpet Area   \n3835  08-06-2022    1   35000.0   500.0       1 out of 5   Super Area   \n\n                               Area Locality       City Furnishing Status  \\\n12                               Thanisandra  Bangalore    Semi-Furnished   \n14                    Bannerghatta Main Road  Bangalore    Semi-Furnished   \n15                     Vinayakanagar, Hebbal  Bangalore    Semi-Furnished   \n16                              venkatapuram  Bangalore    Semi-Furnished   \n17                      Vv Nagar, Bikasipura  Bangalore    Semi-Furnished   \n...                                      ...        ...               ...   \n3824                         Seven Bungalows     Mumbai         Furnished   \n3826                    Lodha Venezia, Parel     Mumbai    Semi-Furnished   \n3828                 L&T Emerald Isle, Powai     Mumbai    Semi-Furnished   \n3831  Bombay Dyeing Two ICC, Dadar TT Circle     Mumbai    Semi-Furnished   \n3835                          Ghatkopar West     Mumbai    Semi-Furnished   \n\n      Tenant Preferred  Bathroom Point of Contact  rent_per_sqft  \n12    Bachelors/Family       1.0    Contact Owner      22.857143  \n14    Bachelors/Family       3.0    Contact Agent      25.000000  \n15    Bachelors/Family       2.0    Contact Owner      18.571429  \n16    Bachelors/Family       1.0    Contact Owner      22.500000  \n17    Bachelors/Family       1.0    Contact Owner      18.571429  \n...                ...       ...              ...            ...  \n3824  Bachelors/Family       2.0    Contact Agent      93.750000  \n3826         Bachelors       2.0    Contact Agent     100.000000  \n3828  Bachelors/Family       2.0    Contact Agent      92.105263  \n3831  Bachelors/Family       6.0    Contact Agent     112.000000  \n3835  Bachelors/Family       1.0    Contact Owner      70.000000  \n\n[1575 rows x 13 columns]>"
     },
     "execution_count": 326,
     "metadata": {},
     "output_type": "execute_result"
    }
   ],
   "source": [
    "data.describe"
   ]
  },
  {
   "cell_type": "code",
   "execution_count": 327,
   "id": "34134d89",
   "metadata": {
    "pycharm": {
     "name": "#%%\n"
    }
   },
   "outputs": [
    {
     "data": {
      "text/plain": "(1575, 13)"
     },
     "execution_count": 327,
     "metadata": {},
     "output_type": "execute_result"
    }
   ],
   "source": [
    "data.shape"
   ]
  },
  {
   "cell_type": "code",
   "execution_count": 328,
   "id": "525af647",
   "metadata": {
    "scrolled": true,
    "pycharm": {
     "name": "#%%\n"
    }
   },
   "outputs": [
    {
     "data": {
      "text/plain": "       Posted On  BHK      Rent    Size            Floor    Area Type  \\\n12    04-05-2022    1    8000.0   350.0       3 out of 3   Super Area   \n14    06-07-2022    3   50000.0  2000.0       1 out of 2  Carpet Area   \n15    09-05-2022    2   13000.0   700.0       1 out of 4   Super Area   \n16    20-05-2022    1   13500.0   600.0       1 out of 4   Super Area   \n17    16-06-2022    2   13000.0   700.0  Ground out of 1  Carpet Area   \n...          ...  ...       ...     ...              ...          ...   \n3824  20-06-2022    1   45000.0   480.0       7 out of 7  Carpet Area   \n3826  07-07-2022    2   90000.0   900.0     60 out of 71  Carpet Area   \n3828  09-07-2022    2   70000.0   760.0      9 out of 22  Carpet Area   \n3831  25-05-2022    4  280000.0  2500.0     24 out of 60  Carpet Area   \n3835  08-06-2022    1   35000.0   500.0       1 out of 5   Super Area   \n\n                               Area Locality       City Furnishing Status  \\\n12                               Thanisandra  Bangalore    Semi-Furnished   \n14                    Bannerghatta Main Road  Bangalore    Semi-Furnished   \n15                     Vinayakanagar, Hebbal  Bangalore    Semi-Furnished   \n16                              venkatapuram  Bangalore    Semi-Furnished   \n17                      Vv Nagar, Bikasipura  Bangalore    Semi-Furnished   \n...                                      ...        ...               ...   \n3824                         Seven Bungalows     Mumbai         Furnished   \n3826                    Lodha Venezia, Parel     Mumbai    Semi-Furnished   \n3828                 L&T Emerald Isle, Powai     Mumbai    Semi-Furnished   \n3831  Bombay Dyeing Two ICC, Dadar TT Circle     Mumbai    Semi-Furnished   \n3835                          Ghatkopar West     Mumbai    Semi-Furnished   \n\n      Tenant Preferred  Bathroom Point of Contact  rent_per_sqft  \n12    Bachelors/Family       1.0    Contact Owner      22.857143  \n14    Bachelors/Family       3.0    Contact Agent      25.000000  \n15    Bachelors/Family       2.0    Contact Owner      18.571429  \n16    Bachelors/Family       1.0    Contact Owner      22.500000  \n17    Bachelors/Family       1.0    Contact Owner      18.571429  \n...                ...       ...              ...            ...  \n3824  Bachelors/Family       2.0    Contact Agent      93.750000  \n3826         Bachelors       2.0    Contact Agent     100.000000  \n3828  Bachelors/Family       2.0    Contact Agent      92.105263  \n3831  Bachelors/Family       6.0    Contact Agent     112.000000  \n3835  Bachelors/Family       1.0    Contact Owner      70.000000  \n\n[1575 rows x 13 columns]",
      "text/html": "<div>\n<style scoped>\n    .dataframe tbody tr th:only-of-type {\n        vertical-align: middle;\n    }\n\n    .dataframe tbody tr th {\n        vertical-align: top;\n    }\n\n    .dataframe thead th {\n        text-align: right;\n    }\n</style>\n<table border=\"1\" class=\"dataframe\">\n  <thead>\n    <tr style=\"text-align: right;\">\n      <th></th>\n      <th>Posted On</th>\n      <th>BHK</th>\n      <th>Rent</th>\n      <th>Size</th>\n      <th>Floor</th>\n      <th>Area Type</th>\n      <th>Area Locality</th>\n      <th>City</th>\n      <th>Furnishing Status</th>\n      <th>Tenant Preferred</th>\n      <th>Bathroom</th>\n      <th>Point of Contact</th>\n      <th>rent_per_sqft</th>\n    </tr>\n  </thead>\n  <tbody>\n    <tr>\n      <th>12</th>\n      <td>04-05-2022</td>\n      <td>1</td>\n      <td>8000.0</td>\n      <td>350.0</td>\n      <td>3 out of 3</td>\n      <td>Super Area</td>\n      <td>Thanisandra</td>\n      <td>Bangalore</td>\n      <td>Semi-Furnished</td>\n      <td>Bachelors/Family</td>\n      <td>1.0</td>\n      <td>Contact Owner</td>\n      <td>22.857143</td>\n    </tr>\n    <tr>\n      <th>14</th>\n      <td>06-07-2022</td>\n      <td>3</td>\n      <td>50000.0</td>\n      <td>2000.0</td>\n      <td>1 out of 2</td>\n      <td>Carpet Area</td>\n      <td>Bannerghatta Main Road</td>\n      <td>Bangalore</td>\n      <td>Semi-Furnished</td>\n      <td>Bachelors/Family</td>\n      <td>3.0</td>\n      <td>Contact Agent</td>\n      <td>25.000000</td>\n    </tr>\n    <tr>\n      <th>15</th>\n      <td>09-05-2022</td>\n      <td>2</td>\n      <td>13000.0</td>\n      <td>700.0</td>\n      <td>1 out of 4</td>\n      <td>Super Area</td>\n      <td>Vinayakanagar, Hebbal</td>\n      <td>Bangalore</td>\n      <td>Semi-Furnished</td>\n      <td>Bachelors/Family</td>\n      <td>2.0</td>\n      <td>Contact Owner</td>\n      <td>18.571429</td>\n    </tr>\n    <tr>\n      <th>16</th>\n      <td>20-05-2022</td>\n      <td>1</td>\n      <td>13500.0</td>\n      <td>600.0</td>\n      <td>1 out of 4</td>\n      <td>Super Area</td>\n      <td>venkatapuram</td>\n      <td>Bangalore</td>\n      <td>Semi-Furnished</td>\n      <td>Bachelors/Family</td>\n      <td>1.0</td>\n      <td>Contact Owner</td>\n      <td>22.500000</td>\n    </tr>\n    <tr>\n      <th>17</th>\n      <td>16-06-2022</td>\n      <td>2</td>\n      <td>13000.0</td>\n      <td>700.0</td>\n      <td>Ground out of 1</td>\n      <td>Carpet Area</td>\n      <td>Vv Nagar, Bikasipura</td>\n      <td>Bangalore</td>\n      <td>Semi-Furnished</td>\n      <td>Bachelors/Family</td>\n      <td>1.0</td>\n      <td>Contact Owner</td>\n      <td>18.571429</td>\n    </tr>\n    <tr>\n      <th>...</th>\n      <td>...</td>\n      <td>...</td>\n      <td>...</td>\n      <td>...</td>\n      <td>...</td>\n      <td>...</td>\n      <td>...</td>\n      <td>...</td>\n      <td>...</td>\n      <td>...</td>\n      <td>...</td>\n      <td>...</td>\n      <td>...</td>\n    </tr>\n    <tr>\n      <th>3824</th>\n      <td>20-06-2022</td>\n      <td>1</td>\n      <td>45000.0</td>\n      <td>480.0</td>\n      <td>7 out of 7</td>\n      <td>Carpet Area</td>\n      <td>Seven Bungalows</td>\n      <td>Mumbai</td>\n      <td>Furnished</td>\n      <td>Bachelors/Family</td>\n      <td>2.0</td>\n      <td>Contact Agent</td>\n      <td>93.750000</td>\n    </tr>\n    <tr>\n      <th>3826</th>\n      <td>07-07-2022</td>\n      <td>2</td>\n      <td>90000.0</td>\n      <td>900.0</td>\n      <td>60 out of 71</td>\n      <td>Carpet Area</td>\n      <td>Lodha Venezia, Parel</td>\n      <td>Mumbai</td>\n      <td>Semi-Furnished</td>\n      <td>Bachelors</td>\n      <td>2.0</td>\n      <td>Contact Agent</td>\n      <td>100.000000</td>\n    </tr>\n    <tr>\n      <th>3828</th>\n      <td>09-07-2022</td>\n      <td>2</td>\n      <td>70000.0</td>\n      <td>760.0</td>\n      <td>9 out of 22</td>\n      <td>Carpet Area</td>\n      <td>L&amp;T Emerald Isle, Powai</td>\n      <td>Mumbai</td>\n      <td>Semi-Furnished</td>\n      <td>Bachelors/Family</td>\n      <td>2.0</td>\n      <td>Contact Agent</td>\n      <td>92.105263</td>\n    </tr>\n    <tr>\n      <th>3831</th>\n      <td>25-05-2022</td>\n      <td>4</td>\n      <td>280000.0</td>\n      <td>2500.0</td>\n      <td>24 out of 60</td>\n      <td>Carpet Area</td>\n      <td>Bombay Dyeing Two ICC, Dadar TT Circle</td>\n      <td>Mumbai</td>\n      <td>Semi-Furnished</td>\n      <td>Bachelors/Family</td>\n      <td>6.0</td>\n      <td>Contact Agent</td>\n      <td>112.000000</td>\n    </tr>\n    <tr>\n      <th>3835</th>\n      <td>08-06-2022</td>\n      <td>1</td>\n      <td>35000.0</td>\n      <td>500.0</td>\n      <td>1 out of 5</td>\n      <td>Super Area</td>\n      <td>Ghatkopar West</td>\n      <td>Mumbai</td>\n      <td>Semi-Furnished</td>\n      <td>Bachelors/Family</td>\n      <td>1.0</td>\n      <td>Contact Owner</td>\n      <td>70.000000</td>\n    </tr>\n  </tbody>\n</table>\n<p>1575 rows × 13 columns</p>\n</div>"
     },
     "execution_count": 328,
     "metadata": {},
     "output_type": "execute_result"
    }
   ],
   "source": [
    "data"
   ]
  },
  {
   "cell_type": "markdown",
   "id": "f714f721",
   "metadata": {
    "pycharm": {
     "name": "#%% md\n"
    }
   },
   "source": [
    "# cleaned data"
   ]
  },
  {
   "cell_type": "code",
   "execution_count": 329,
   "id": "c8db3220",
   "metadata": {
    "pycharm": {
     "name": "#%%\n"
    }
   },
   "outputs": [
    {
     "data": {
      "text/plain": "     Posted On  BHK     Rent    Size            Floor    Area Type  \\\n12  04-05-2022    1   8000.0   350.0       3 out of 3   Super Area   \n14  06-07-2022    3  50000.0  2000.0       1 out of 2  Carpet Area   \n15  09-05-2022    2  13000.0   700.0       1 out of 4   Super Area   \n16  20-05-2022    1  13500.0   600.0       1 out of 4   Super Area   \n17  16-06-2022    2  13000.0   700.0  Ground out of 1  Carpet Area   \n\n             Area Locality       City Furnishing Status  Tenant Preferred  \\\n12             Thanisandra  Bangalore    Semi-Furnished  Bachelors/Family   \n14  Bannerghatta Main Road  Bangalore    Semi-Furnished  Bachelors/Family   \n15   Vinayakanagar, Hebbal  Bangalore    Semi-Furnished  Bachelors/Family   \n16            venkatapuram  Bangalore    Semi-Furnished  Bachelors/Family   \n17    Vv Nagar, Bikasipura  Bangalore    Semi-Furnished  Bachelors/Family   \n\n    Bathroom Point of Contact  rent_per_sqft  \n12       1.0    Contact Owner      22.857143  \n14       3.0    Contact Agent      25.000000  \n15       2.0    Contact Owner      18.571429  \n16       1.0    Contact Owner      22.500000  \n17       1.0    Contact Owner      18.571429  ",
      "text/html": "<div>\n<style scoped>\n    .dataframe tbody tr th:only-of-type {\n        vertical-align: middle;\n    }\n\n    .dataframe tbody tr th {\n        vertical-align: top;\n    }\n\n    .dataframe thead th {\n        text-align: right;\n    }\n</style>\n<table border=\"1\" class=\"dataframe\">\n  <thead>\n    <tr style=\"text-align: right;\">\n      <th></th>\n      <th>Posted On</th>\n      <th>BHK</th>\n      <th>Rent</th>\n      <th>Size</th>\n      <th>Floor</th>\n      <th>Area Type</th>\n      <th>Area Locality</th>\n      <th>City</th>\n      <th>Furnishing Status</th>\n      <th>Tenant Preferred</th>\n      <th>Bathroom</th>\n      <th>Point of Contact</th>\n      <th>rent_per_sqft</th>\n    </tr>\n  </thead>\n  <tbody>\n    <tr>\n      <th>12</th>\n      <td>04-05-2022</td>\n      <td>1</td>\n      <td>8000.0</td>\n      <td>350.0</td>\n      <td>3 out of 3</td>\n      <td>Super Area</td>\n      <td>Thanisandra</td>\n      <td>Bangalore</td>\n      <td>Semi-Furnished</td>\n      <td>Bachelors/Family</td>\n      <td>1.0</td>\n      <td>Contact Owner</td>\n      <td>22.857143</td>\n    </tr>\n    <tr>\n      <th>14</th>\n      <td>06-07-2022</td>\n      <td>3</td>\n      <td>50000.0</td>\n      <td>2000.0</td>\n      <td>1 out of 2</td>\n      <td>Carpet Area</td>\n      <td>Bannerghatta Main Road</td>\n      <td>Bangalore</td>\n      <td>Semi-Furnished</td>\n      <td>Bachelors/Family</td>\n      <td>3.0</td>\n      <td>Contact Agent</td>\n      <td>25.000000</td>\n    </tr>\n    <tr>\n      <th>15</th>\n      <td>09-05-2022</td>\n      <td>2</td>\n      <td>13000.0</td>\n      <td>700.0</td>\n      <td>1 out of 4</td>\n      <td>Super Area</td>\n      <td>Vinayakanagar, Hebbal</td>\n      <td>Bangalore</td>\n      <td>Semi-Furnished</td>\n      <td>Bachelors/Family</td>\n      <td>2.0</td>\n      <td>Contact Owner</td>\n      <td>18.571429</td>\n    </tr>\n    <tr>\n      <th>16</th>\n      <td>20-05-2022</td>\n      <td>1</td>\n      <td>13500.0</td>\n      <td>600.0</td>\n      <td>1 out of 4</td>\n      <td>Super Area</td>\n      <td>venkatapuram</td>\n      <td>Bangalore</td>\n      <td>Semi-Furnished</td>\n      <td>Bachelors/Family</td>\n      <td>1.0</td>\n      <td>Contact Owner</td>\n      <td>22.500000</td>\n    </tr>\n    <tr>\n      <th>17</th>\n      <td>16-06-2022</td>\n      <td>2</td>\n      <td>13000.0</td>\n      <td>700.0</td>\n      <td>Ground out of 1</td>\n      <td>Carpet Area</td>\n      <td>Vv Nagar, Bikasipura</td>\n      <td>Bangalore</td>\n      <td>Semi-Furnished</td>\n      <td>Bachelors/Family</td>\n      <td>1.0</td>\n      <td>Contact Owner</td>\n      <td>18.571429</td>\n    </tr>\n  </tbody>\n</table>\n</div>"
     },
     "execution_count": 329,
     "metadata": {},
     "output_type": "execute_result"
    }
   ],
   "source": [
    "data.head()"
   ]
  },
  {
   "cell_type": "code",
   "execution_count": 330,
   "id": "446fdb9a",
   "metadata": {
    "pycharm": {
     "name": "#%%\n"
    }
   },
   "outputs": [],
   "source": [
    "new_data = data.drop(columns=[ 'Posted On' , 'Floor' , 'Area Type' , 'Area Locality' , 'Furnishing Status' , 'Tenant Preferred' , 'Point of Contact','rent_per_sqft'])\n",
    "#print(new_data)\n",
    "new_data = new_data.to_csv(\"cleaned_data.csv\")"
   ]
  },
  {
   "cell_type": "markdown",
   "id": "11815057",
   "metadata": {
    "pycharm": {
     "name": "#%% md\n"
    }
   },
   "source": [
    "# prediction"
   ]
  },
  {
   "cell_type": "code",
   "execution_count": 331,
   "id": "da827e32",
   "metadata": {
    "pycharm": {
     "name": "#%%\n"
    }
   },
   "outputs": [],
   "source": [
    "from sklearn.model_selection import train_test_split\n",
    "from sklearn.linear_model import LinearRegression , Lasso , Ridge\n",
    "from sklearn.preprocessing import OneHotEncoder , StandardScaler\n",
    "from sklearn.compose import make_column_transformer\n",
    "from sklearn.pipeline import make_pipeline\n",
    "from sklearn.metrics import r2_score"
   ]
  },
  {
   "cell_type": "code",
   "execution_count": 332,
   "id": "10ace33a",
   "metadata": {
    "pycharm": {
     "name": "#%%\n"
    }
   },
   "outputs": [],
   "source": [
    "X = data.drop(columns=['Rent' ,'Posted On' , 'Floor' , 'Area Type' , 'Area Locality' , 'Furnishing Status' , 'Tenant Preferred' , 'Point of Contact' , 'rent_per_sqft' ])\n",
    "y = data['Rent']"
   ]
  },
  {
   "cell_type": "code",
   "execution_count": 333,
   "id": "4b9f2f5c",
   "metadata": {
    "pycharm": {
     "name": "#%%\n"
    }
   },
   "outputs": [],
   "source": [
    "X_train , X_test , y_train , y_test = train_test_split(X, y, test_size = 0.2 , random_state=0)"
   ]
  },
  {
   "cell_type": "code",
   "execution_count": 334,
   "id": "b8704e9f",
   "metadata": {
    "pycharm": {
     "name": "#%%\n"
    }
   },
   "outputs": [
    {
     "name": "stdout",
     "output_type": "stream",
     "text": [
      "(1260, 4)\n",
      "(315, 4)\n"
     ]
    }
   ],
   "source": [
    "print(X_train.shape)\n",
    "print(X_test.shape)"
   ]
  },
  {
   "cell_type": "markdown",
   "id": "fc4317ee",
   "metadata": {
    "pycharm": {
     "name": "#%% md\n"
    }
   },
   "source": [
    "# apply lin regression"
   ]
  },
  {
   "cell_type": "code",
   "execution_count": 335,
   "id": "dc8ea872",
   "metadata": {
    "pycharm": {
     "name": "#%%\n"
    }
   },
   "outputs": [],
   "source": [
    "column_transform = make_column_transformer(( OneHotEncoder(sparse = False) , ['City']), remainder = 'passthrough')"
   ]
  },
  {
   "cell_type": "code",
   "execution_count": 336,
   "id": "90d52a71",
   "metadata": {
    "pycharm": {
     "name": "#%%\n"
    }
   },
   "outputs": [],
   "source": [
    "scaler = StandardScaler()"
   ]
  },
  {
   "cell_type": "code",
   "execution_count": 337,
   "id": "6952fb15",
   "metadata": {
    "pycharm": {
     "name": "#%%\n"
    }
   },
   "outputs": [],
   "source": [
    "lr = LinearRegression(normalize = True)"
   ]
  },
  {
   "cell_type": "code",
   "execution_count": 338,
   "id": "c10884fa",
   "metadata": {
    "pycharm": {
     "name": "#%%\n"
    }
   },
   "outputs": [],
   "source": [
    "pipe = make_pipeline(column_transform , scaler , lr)"
   ]
  },
  {
   "cell_type": "code",
   "execution_count": 339,
   "id": "34a4ea95",
   "metadata": {
    "pycharm": {
     "name": "#%%\n"
    }
   },
   "outputs": [],
   "source": [
    "#pipe = make_pipeline(StandardScaler(with_mean = False), LinearRegression)"
   ]
  },
  {
   "cell_type": "code",
   "execution_count": 340,
   "id": "fc530f48",
   "metadata": {
    "pycharm": {
     "name": "#%%\n"
    }
   },
   "outputs": [
    {
     "name": "stderr",
     "output_type": "stream",
     "text": [
      "C:\\ProgramData\\Anaconda3\\lib\\site-packages\\sklearn\\linear_model\\_base.py:141: FutureWarning: 'normalize' was deprecated in version 1.0 and will be removed in 1.2.\n",
      "If you wish to scale the data, use Pipeline with a StandardScaler in a preprocessing stage. To reproduce the previous behavior:\n",
      "\n",
      "from sklearn.pipeline import make_pipeline\n",
      "\n",
      "model = make_pipeline(StandardScaler(with_mean=False), LinearRegression())\n",
      "\n",
      "If you wish to pass a sample_weight parameter, you need to pass it as a fit parameter to each step of the pipeline as follows:\n",
      "\n",
      "kwargs = {s[0] + '__sample_weight': sample_weight for s in model.steps}\n",
      "model.fit(X, y, **kwargs)\n",
      "\n",
      "\n",
      "  warnings.warn(\n"
     ]
    },
    {
     "data": {
      "text/plain": "Pipeline(steps=[('columntransformer',\n                 ColumnTransformer(remainder='passthrough',\n                                   transformers=[('onehotencoder',\n                                                  OneHotEncoder(sparse=False),\n                                                  ['City'])])),\n                ('standardscaler', StandardScaler()),\n                ('linearregression', LinearRegression(normalize=True))])",
      "text/html": "<style>#sk-container-id-16 {color: black;background-color: white;}#sk-container-id-16 pre{padding: 0;}#sk-container-id-16 div.sk-toggleable {background-color: white;}#sk-container-id-16 label.sk-toggleable__label {cursor: pointer;display: block;width: 100%;margin-bottom: 0;padding: 0.3em;box-sizing: border-box;text-align: center;}#sk-container-id-16 label.sk-toggleable__label-arrow:before {content: \"▸\";float: left;margin-right: 0.25em;color: #696969;}#sk-container-id-16 label.sk-toggleable__label-arrow:hover:before {color: black;}#sk-container-id-16 div.sk-estimator:hover label.sk-toggleable__label-arrow:before {color: black;}#sk-container-id-16 div.sk-toggleable__content {max-height: 0;max-width: 0;overflow: hidden;text-align: left;background-color: #f0f8ff;}#sk-container-id-16 div.sk-toggleable__content pre {margin: 0.2em;color: black;border-radius: 0.25em;background-color: #f0f8ff;}#sk-container-id-16 input.sk-toggleable__control:checked~div.sk-toggleable__content {max-height: 200px;max-width: 100%;overflow: auto;}#sk-container-id-16 input.sk-toggleable__control:checked~label.sk-toggleable__label-arrow:before {content: \"▾\";}#sk-container-id-16 div.sk-estimator input.sk-toggleable__control:checked~label.sk-toggleable__label {background-color: #d4ebff;}#sk-container-id-16 div.sk-label input.sk-toggleable__control:checked~label.sk-toggleable__label {background-color: #d4ebff;}#sk-container-id-16 input.sk-hidden--visually {border: 0;clip: rect(1px 1px 1px 1px);clip: rect(1px, 1px, 1px, 1px);height: 1px;margin: -1px;overflow: hidden;padding: 0;position: absolute;width: 1px;}#sk-container-id-16 div.sk-estimator {font-family: monospace;background-color: #f0f8ff;border: 1px dotted black;border-radius: 0.25em;box-sizing: border-box;margin-bottom: 0.5em;}#sk-container-id-16 div.sk-estimator:hover {background-color: #d4ebff;}#sk-container-id-16 div.sk-parallel-item::after {content: \"\";width: 100%;border-bottom: 1px solid gray;flex-grow: 1;}#sk-container-id-16 div.sk-label:hover label.sk-toggleable__label {background-color: #d4ebff;}#sk-container-id-16 div.sk-serial::before {content: \"\";position: absolute;border-left: 1px solid gray;box-sizing: border-box;top: 0;bottom: 0;left: 50%;z-index: 0;}#sk-container-id-16 div.sk-serial {display: flex;flex-direction: column;align-items: center;background-color: white;padding-right: 0.2em;padding-left: 0.2em;position: relative;}#sk-container-id-16 div.sk-item {position: relative;z-index: 1;}#sk-container-id-16 div.sk-parallel {display: flex;align-items: stretch;justify-content: center;background-color: white;position: relative;}#sk-container-id-16 div.sk-item::before, #sk-container-id-16 div.sk-parallel-item::before {content: \"\";position: absolute;border-left: 1px solid gray;box-sizing: border-box;top: 0;bottom: 0;left: 50%;z-index: -1;}#sk-container-id-16 div.sk-parallel-item {display: flex;flex-direction: column;z-index: 1;position: relative;background-color: white;}#sk-container-id-16 div.sk-parallel-item:first-child::after {align-self: flex-end;width: 50%;}#sk-container-id-16 div.sk-parallel-item:last-child::after {align-self: flex-start;width: 50%;}#sk-container-id-16 div.sk-parallel-item:only-child::after {width: 0;}#sk-container-id-16 div.sk-dashed-wrapped {border: 1px dashed gray;margin: 0 0.4em 0.5em 0.4em;box-sizing: border-box;padding-bottom: 0.4em;background-color: white;}#sk-container-id-16 div.sk-label label {font-family: monospace;font-weight: bold;display: inline-block;line-height: 1.2em;}#sk-container-id-16 div.sk-label-container {text-align: center;}#sk-container-id-16 div.sk-container {/* jupyter's `normalize.less` sets `[hidden] { display: none; }` but bootstrap.min.css set `[hidden] { display: none !important; }` so we also need the `!important` here to be able to override the default hidden behavior on the sphinx rendered scikit-learn.org. See: https://github.com/scikit-learn/scikit-learn/issues/21755 */display: inline-block !important;position: relative;}#sk-container-id-16 div.sk-text-repr-fallback {display: none;}</style><div id=\"sk-container-id-16\" class=\"sk-top-container\"><div class=\"sk-text-repr-fallback\"><pre>Pipeline(steps=[(&#x27;columntransformer&#x27;,\n                 ColumnTransformer(remainder=&#x27;passthrough&#x27;,\n                                   transformers=[(&#x27;onehotencoder&#x27;,\n                                                  OneHotEncoder(sparse=False),\n                                                  [&#x27;City&#x27;])])),\n                (&#x27;standardscaler&#x27;, StandardScaler()),\n                (&#x27;linearregression&#x27;, LinearRegression(normalize=True))])</pre><b>In a Jupyter environment, please rerun this cell to show the HTML representation or trust the notebook. <br />On GitHub, the HTML representation is unable to render, please try loading this page with nbviewer.org.</b></div><div class=\"sk-container\" hidden><div class=\"sk-item sk-dashed-wrapped\"><div class=\"sk-label-container\"><div class=\"sk-label sk-toggleable\"><input class=\"sk-toggleable__control sk-hidden--visually\" id=\"sk-estimator-id-121\" type=\"checkbox\" ><label for=\"sk-estimator-id-121\" class=\"sk-toggleable__label sk-toggleable__label-arrow\">Pipeline</label><div class=\"sk-toggleable__content\"><pre>Pipeline(steps=[(&#x27;columntransformer&#x27;,\n                 ColumnTransformer(remainder=&#x27;passthrough&#x27;,\n                                   transformers=[(&#x27;onehotencoder&#x27;,\n                                                  OneHotEncoder(sparse=False),\n                                                  [&#x27;City&#x27;])])),\n                (&#x27;standardscaler&#x27;, StandardScaler()),\n                (&#x27;linearregression&#x27;, LinearRegression(normalize=True))])</pre></div></div></div><div class=\"sk-serial\"><div class=\"sk-item sk-dashed-wrapped\"><div class=\"sk-label-container\"><div class=\"sk-label sk-toggleable\"><input class=\"sk-toggleable__control sk-hidden--visually\" id=\"sk-estimator-id-122\" type=\"checkbox\" ><label for=\"sk-estimator-id-122\" class=\"sk-toggleable__label sk-toggleable__label-arrow\">columntransformer: ColumnTransformer</label><div class=\"sk-toggleable__content\"><pre>ColumnTransformer(remainder=&#x27;passthrough&#x27;,\n                  transformers=[(&#x27;onehotencoder&#x27;, OneHotEncoder(sparse=False),\n                                 [&#x27;City&#x27;])])</pre></div></div></div><div class=\"sk-parallel\"><div class=\"sk-parallel-item\"><div class=\"sk-item\"><div class=\"sk-label-container\"><div class=\"sk-label sk-toggleable\"><input class=\"sk-toggleable__control sk-hidden--visually\" id=\"sk-estimator-id-123\" type=\"checkbox\" ><label for=\"sk-estimator-id-123\" class=\"sk-toggleable__label sk-toggleable__label-arrow\">onehotencoder</label><div class=\"sk-toggleable__content\"><pre>[&#x27;City&#x27;]</pre></div></div></div><div class=\"sk-serial\"><div class=\"sk-item\"><div class=\"sk-estimator sk-toggleable\"><input class=\"sk-toggleable__control sk-hidden--visually\" id=\"sk-estimator-id-124\" type=\"checkbox\" ><label for=\"sk-estimator-id-124\" class=\"sk-toggleable__label sk-toggleable__label-arrow\">OneHotEncoder</label><div class=\"sk-toggleable__content\"><pre>OneHotEncoder(sparse=False)</pre></div></div></div></div></div></div><div class=\"sk-parallel-item\"><div class=\"sk-item\"><div class=\"sk-label-container\"><div class=\"sk-label sk-toggleable\"><input class=\"sk-toggleable__control sk-hidden--visually\" id=\"sk-estimator-id-125\" type=\"checkbox\" ><label for=\"sk-estimator-id-125\" class=\"sk-toggleable__label sk-toggleable__label-arrow\">remainder</label><div class=\"sk-toggleable__content\"><pre>[&#x27;BHK&#x27;, &#x27;Size&#x27;, &#x27;Bathroom&#x27;]</pre></div></div></div><div class=\"sk-serial\"><div class=\"sk-item\"><div class=\"sk-estimator sk-toggleable\"><input class=\"sk-toggleable__control sk-hidden--visually\" id=\"sk-estimator-id-126\" type=\"checkbox\" ><label for=\"sk-estimator-id-126\" class=\"sk-toggleable__label sk-toggleable__label-arrow\">passthrough</label><div class=\"sk-toggleable__content\"><pre>passthrough</pre></div></div></div></div></div></div></div></div><div class=\"sk-item\"><div class=\"sk-estimator sk-toggleable\"><input class=\"sk-toggleable__control sk-hidden--visually\" id=\"sk-estimator-id-127\" type=\"checkbox\" ><label for=\"sk-estimator-id-127\" class=\"sk-toggleable__label sk-toggleable__label-arrow\">StandardScaler</label><div class=\"sk-toggleable__content\"><pre>StandardScaler()</pre></div></div></div><div class=\"sk-item\"><div class=\"sk-estimator sk-toggleable\"><input class=\"sk-toggleable__control sk-hidden--visually\" id=\"sk-estimator-id-128\" type=\"checkbox\" ><label for=\"sk-estimator-id-128\" class=\"sk-toggleable__label sk-toggleable__label-arrow\">LinearRegression</label><div class=\"sk-toggleable__content\"><pre>LinearRegression(normalize=True)</pre></div></div></div></div></div></div></div>"
     },
     "execution_count": 340,
     "metadata": {},
     "output_type": "execute_result"
    }
   ],
   "source": [
    "pipe.fit(X_train, y_train)"
   ]
  },
  {
   "cell_type": "code",
   "execution_count": 341,
   "id": "3d3ebb37",
   "metadata": {
    "pycharm": {
     "name": "#%%\n"
    }
   },
   "outputs": [],
   "source": [
    "y_pred_lr =pipe.predict(X_test)"
   ]
  },
  {
   "cell_type": "code",
   "execution_count": 342,
   "id": "55153464",
   "metadata": {
    "pycharm": {
     "name": "#%%\n"
    }
   },
   "outputs": [
    {
     "data": {
      "text/plain": "0.7479516438514412"
     },
     "execution_count": 342,
     "metadata": {},
     "output_type": "execute_result"
    }
   ],
   "source": [
    "r2_score(y_test , y_pred_lr)"
   ]
  },
  {
   "cell_type": "markdown",
   "id": "51184ae8",
   "metadata": {
    "pycharm": {
     "name": "#%% md\n"
    }
   },
   "source": [
    "# apply lasso"
   ]
  },
  {
   "cell_type": "code",
   "execution_count": 343,
   "id": "7a764b26",
   "metadata": {
    "pycharm": {
     "name": "#%%\n"
    }
   },
   "outputs": [],
   "source": [
    "lasso = Lasso()"
   ]
  },
  {
   "cell_type": "code",
   "execution_count": 344,
   "id": "13dbc0e8",
   "metadata": {
    "pycharm": {
     "name": "#%%\n"
    }
   },
   "outputs": [
    {
     "data": {
      "text/plain": "Pipeline(steps=[('columntransformer',\n                 ColumnTransformer(remainder='passthrough',\n                                   transformers=[('onehotencoder',\n                                                  OneHotEncoder(sparse=False),\n                                                  ['City'])])),\n                ('standardscaler', StandardScaler()), ('lasso', Lasso())])",
      "text/html": "<style>#sk-container-id-17 {color: black;background-color: white;}#sk-container-id-17 pre{padding: 0;}#sk-container-id-17 div.sk-toggleable {background-color: white;}#sk-container-id-17 label.sk-toggleable__label {cursor: pointer;display: block;width: 100%;margin-bottom: 0;padding: 0.3em;box-sizing: border-box;text-align: center;}#sk-container-id-17 label.sk-toggleable__label-arrow:before {content: \"▸\";float: left;margin-right: 0.25em;color: #696969;}#sk-container-id-17 label.sk-toggleable__label-arrow:hover:before {color: black;}#sk-container-id-17 div.sk-estimator:hover label.sk-toggleable__label-arrow:before {color: black;}#sk-container-id-17 div.sk-toggleable__content {max-height: 0;max-width: 0;overflow: hidden;text-align: left;background-color: #f0f8ff;}#sk-container-id-17 div.sk-toggleable__content pre {margin: 0.2em;color: black;border-radius: 0.25em;background-color: #f0f8ff;}#sk-container-id-17 input.sk-toggleable__control:checked~div.sk-toggleable__content {max-height: 200px;max-width: 100%;overflow: auto;}#sk-container-id-17 input.sk-toggleable__control:checked~label.sk-toggleable__label-arrow:before {content: \"▾\";}#sk-container-id-17 div.sk-estimator input.sk-toggleable__control:checked~label.sk-toggleable__label {background-color: #d4ebff;}#sk-container-id-17 div.sk-label input.sk-toggleable__control:checked~label.sk-toggleable__label {background-color: #d4ebff;}#sk-container-id-17 input.sk-hidden--visually {border: 0;clip: rect(1px 1px 1px 1px);clip: rect(1px, 1px, 1px, 1px);height: 1px;margin: -1px;overflow: hidden;padding: 0;position: absolute;width: 1px;}#sk-container-id-17 div.sk-estimator {font-family: monospace;background-color: #f0f8ff;border: 1px dotted black;border-radius: 0.25em;box-sizing: border-box;margin-bottom: 0.5em;}#sk-container-id-17 div.sk-estimator:hover {background-color: #d4ebff;}#sk-container-id-17 div.sk-parallel-item::after {content: \"\";width: 100%;border-bottom: 1px solid gray;flex-grow: 1;}#sk-container-id-17 div.sk-label:hover label.sk-toggleable__label {background-color: #d4ebff;}#sk-container-id-17 div.sk-serial::before {content: \"\";position: absolute;border-left: 1px solid gray;box-sizing: border-box;top: 0;bottom: 0;left: 50%;z-index: 0;}#sk-container-id-17 div.sk-serial {display: flex;flex-direction: column;align-items: center;background-color: white;padding-right: 0.2em;padding-left: 0.2em;position: relative;}#sk-container-id-17 div.sk-item {position: relative;z-index: 1;}#sk-container-id-17 div.sk-parallel {display: flex;align-items: stretch;justify-content: center;background-color: white;position: relative;}#sk-container-id-17 div.sk-item::before, #sk-container-id-17 div.sk-parallel-item::before {content: \"\";position: absolute;border-left: 1px solid gray;box-sizing: border-box;top: 0;bottom: 0;left: 50%;z-index: -1;}#sk-container-id-17 div.sk-parallel-item {display: flex;flex-direction: column;z-index: 1;position: relative;background-color: white;}#sk-container-id-17 div.sk-parallel-item:first-child::after {align-self: flex-end;width: 50%;}#sk-container-id-17 div.sk-parallel-item:last-child::after {align-self: flex-start;width: 50%;}#sk-container-id-17 div.sk-parallel-item:only-child::after {width: 0;}#sk-container-id-17 div.sk-dashed-wrapped {border: 1px dashed gray;margin: 0 0.4em 0.5em 0.4em;box-sizing: border-box;padding-bottom: 0.4em;background-color: white;}#sk-container-id-17 div.sk-label label {font-family: monospace;font-weight: bold;display: inline-block;line-height: 1.2em;}#sk-container-id-17 div.sk-label-container {text-align: center;}#sk-container-id-17 div.sk-container {/* jupyter's `normalize.less` sets `[hidden] { display: none; }` but bootstrap.min.css set `[hidden] { display: none !important; }` so we also need the `!important` here to be able to override the default hidden behavior on the sphinx rendered scikit-learn.org. See: https://github.com/scikit-learn/scikit-learn/issues/21755 */display: inline-block !important;position: relative;}#sk-container-id-17 div.sk-text-repr-fallback {display: none;}</style><div id=\"sk-container-id-17\" class=\"sk-top-container\"><div class=\"sk-text-repr-fallback\"><pre>Pipeline(steps=[(&#x27;columntransformer&#x27;,\n                 ColumnTransformer(remainder=&#x27;passthrough&#x27;,\n                                   transformers=[(&#x27;onehotencoder&#x27;,\n                                                  OneHotEncoder(sparse=False),\n                                                  [&#x27;City&#x27;])])),\n                (&#x27;standardscaler&#x27;, StandardScaler()), (&#x27;lasso&#x27;, Lasso())])</pre><b>In a Jupyter environment, please rerun this cell to show the HTML representation or trust the notebook. <br />On GitHub, the HTML representation is unable to render, please try loading this page with nbviewer.org.</b></div><div class=\"sk-container\" hidden><div class=\"sk-item sk-dashed-wrapped\"><div class=\"sk-label-container\"><div class=\"sk-label sk-toggleable\"><input class=\"sk-toggleable__control sk-hidden--visually\" id=\"sk-estimator-id-129\" type=\"checkbox\" ><label for=\"sk-estimator-id-129\" class=\"sk-toggleable__label sk-toggleable__label-arrow\">Pipeline</label><div class=\"sk-toggleable__content\"><pre>Pipeline(steps=[(&#x27;columntransformer&#x27;,\n                 ColumnTransformer(remainder=&#x27;passthrough&#x27;,\n                                   transformers=[(&#x27;onehotencoder&#x27;,\n                                                  OneHotEncoder(sparse=False),\n                                                  [&#x27;City&#x27;])])),\n                (&#x27;standardscaler&#x27;, StandardScaler()), (&#x27;lasso&#x27;, Lasso())])</pre></div></div></div><div class=\"sk-serial\"><div class=\"sk-item sk-dashed-wrapped\"><div class=\"sk-label-container\"><div class=\"sk-label sk-toggleable\"><input class=\"sk-toggleable__control sk-hidden--visually\" id=\"sk-estimator-id-130\" type=\"checkbox\" ><label for=\"sk-estimator-id-130\" class=\"sk-toggleable__label sk-toggleable__label-arrow\">columntransformer: ColumnTransformer</label><div class=\"sk-toggleable__content\"><pre>ColumnTransformer(remainder=&#x27;passthrough&#x27;,\n                  transformers=[(&#x27;onehotencoder&#x27;, OneHotEncoder(sparse=False),\n                                 [&#x27;City&#x27;])])</pre></div></div></div><div class=\"sk-parallel\"><div class=\"sk-parallel-item\"><div class=\"sk-item\"><div class=\"sk-label-container\"><div class=\"sk-label sk-toggleable\"><input class=\"sk-toggleable__control sk-hidden--visually\" id=\"sk-estimator-id-131\" type=\"checkbox\" ><label for=\"sk-estimator-id-131\" class=\"sk-toggleable__label sk-toggleable__label-arrow\">onehotencoder</label><div class=\"sk-toggleable__content\"><pre>[&#x27;City&#x27;]</pre></div></div></div><div class=\"sk-serial\"><div class=\"sk-item\"><div class=\"sk-estimator sk-toggleable\"><input class=\"sk-toggleable__control sk-hidden--visually\" id=\"sk-estimator-id-132\" type=\"checkbox\" ><label for=\"sk-estimator-id-132\" class=\"sk-toggleable__label sk-toggleable__label-arrow\">OneHotEncoder</label><div class=\"sk-toggleable__content\"><pre>OneHotEncoder(sparse=False)</pre></div></div></div></div></div></div><div class=\"sk-parallel-item\"><div class=\"sk-item\"><div class=\"sk-label-container\"><div class=\"sk-label sk-toggleable\"><input class=\"sk-toggleable__control sk-hidden--visually\" id=\"sk-estimator-id-133\" type=\"checkbox\" ><label for=\"sk-estimator-id-133\" class=\"sk-toggleable__label sk-toggleable__label-arrow\">remainder</label><div class=\"sk-toggleable__content\"><pre>[&#x27;BHK&#x27;, &#x27;Size&#x27;, &#x27;Bathroom&#x27;]</pre></div></div></div><div class=\"sk-serial\"><div class=\"sk-item\"><div class=\"sk-estimator sk-toggleable\"><input class=\"sk-toggleable__control sk-hidden--visually\" id=\"sk-estimator-id-134\" type=\"checkbox\" ><label for=\"sk-estimator-id-134\" class=\"sk-toggleable__label sk-toggleable__label-arrow\">passthrough</label><div class=\"sk-toggleable__content\"><pre>passthrough</pre></div></div></div></div></div></div></div></div><div class=\"sk-item\"><div class=\"sk-estimator sk-toggleable\"><input class=\"sk-toggleable__control sk-hidden--visually\" id=\"sk-estimator-id-135\" type=\"checkbox\" ><label for=\"sk-estimator-id-135\" class=\"sk-toggleable__label sk-toggleable__label-arrow\">StandardScaler</label><div class=\"sk-toggleable__content\"><pre>StandardScaler()</pre></div></div></div><div class=\"sk-item\"><div class=\"sk-estimator sk-toggleable\"><input class=\"sk-toggleable__control sk-hidden--visually\" id=\"sk-estimator-id-136\" type=\"checkbox\" ><label for=\"sk-estimator-id-136\" class=\"sk-toggleable__label sk-toggleable__label-arrow\">Lasso</label><div class=\"sk-toggleable__content\"><pre>Lasso()</pre></div></div></div></div></div></div></div>"
     },
     "execution_count": 344,
     "metadata": {},
     "output_type": "execute_result"
    }
   ],
   "source": [
    "pipe = make_pipeline(column_transform , scaler , lasso)\n",
    "pipe.fit(X_train , y_train)"
   ]
  },
  {
   "cell_type": "code",
   "execution_count": 345,
   "id": "8595a876",
   "metadata": {
    "pycharm": {
     "name": "#%%\n"
    }
   },
   "outputs": [
    {
     "data": {
      "text/plain": "0.7479534174855573"
     },
     "execution_count": 345,
     "metadata": {},
     "output_type": "execute_result"
    }
   ],
   "source": [
    "y_pred_lasso = pipe.predict(X_test)\n",
    "r2_score(y_test , y_pred_lasso)"
   ]
  },
  {
   "cell_type": "markdown",
   "id": "9501ca26",
   "metadata": {
    "pycharm": {
     "name": "#%% md\n"
    }
   },
   "source": [
    "# applying ridge"
   ]
  },
  {
   "cell_type": "code",
   "execution_count": 346,
   "id": "ec08c84c",
   "metadata": {
    "pycharm": {
     "name": "#%%\n"
    }
   },
   "outputs": [],
   "source": [
    "ridge = Ridge()"
   ]
  },
  {
   "cell_type": "code",
   "execution_count": 347,
   "id": "b0e78bdd",
   "metadata": {
    "pycharm": {
     "name": "#%%\n"
    }
   },
   "outputs": [
    {
     "data": {
      "text/plain": "Pipeline(steps=[('columntransformer',\n                 ColumnTransformer(remainder='passthrough',\n                                   transformers=[('onehotencoder',\n                                                  OneHotEncoder(sparse=False),\n                                                  ['City'])])),\n                ('standardscaler', StandardScaler()), ('ridge', Ridge())])",
      "text/html": "<style>#sk-container-id-18 {color: black;background-color: white;}#sk-container-id-18 pre{padding: 0;}#sk-container-id-18 div.sk-toggleable {background-color: white;}#sk-container-id-18 label.sk-toggleable__label {cursor: pointer;display: block;width: 100%;margin-bottom: 0;padding: 0.3em;box-sizing: border-box;text-align: center;}#sk-container-id-18 label.sk-toggleable__label-arrow:before {content: \"▸\";float: left;margin-right: 0.25em;color: #696969;}#sk-container-id-18 label.sk-toggleable__label-arrow:hover:before {color: black;}#sk-container-id-18 div.sk-estimator:hover label.sk-toggleable__label-arrow:before {color: black;}#sk-container-id-18 div.sk-toggleable__content {max-height: 0;max-width: 0;overflow: hidden;text-align: left;background-color: #f0f8ff;}#sk-container-id-18 div.sk-toggleable__content pre {margin: 0.2em;color: black;border-radius: 0.25em;background-color: #f0f8ff;}#sk-container-id-18 input.sk-toggleable__control:checked~div.sk-toggleable__content {max-height: 200px;max-width: 100%;overflow: auto;}#sk-container-id-18 input.sk-toggleable__control:checked~label.sk-toggleable__label-arrow:before {content: \"▾\";}#sk-container-id-18 div.sk-estimator input.sk-toggleable__control:checked~label.sk-toggleable__label {background-color: #d4ebff;}#sk-container-id-18 div.sk-label input.sk-toggleable__control:checked~label.sk-toggleable__label {background-color: #d4ebff;}#sk-container-id-18 input.sk-hidden--visually {border: 0;clip: rect(1px 1px 1px 1px);clip: rect(1px, 1px, 1px, 1px);height: 1px;margin: -1px;overflow: hidden;padding: 0;position: absolute;width: 1px;}#sk-container-id-18 div.sk-estimator {font-family: monospace;background-color: #f0f8ff;border: 1px dotted black;border-radius: 0.25em;box-sizing: border-box;margin-bottom: 0.5em;}#sk-container-id-18 div.sk-estimator:hover {background-color: #d4ebff;}#sk-container-id-18 div.sk-parallel-item::after {content: \"\";width: 100%;border-bottom: 1px solid gray;flex-grow: 1;}#sk-container-id-18 div.sk-label:hover label.sk-toggleable__label {background-color: #d4ebff;}#sk-container-id-18 div.sk-serial::before {content: \"\";position: absolute;border-left: 1px solid gray;box-sizing: border-box;top: 0;bottom: 0;left: 50%;z-index: 0;}#sk-container-id-18 div.sk-serial {display: flex;flex-direction: column;align-items: center;background-color: white;padding-right: 0.2em;padding-left: 0.2em;position: relative;}#sk-container-id-18 div.sk-item {position: relative;z-index: 1;}#sk-container-id-18 div.sk-parallel {display: flex;align-items: stretch;justify-content: center;background-color: white;position: relative;}#sk-container-id-18 div.sk-item::before, #sk-container-id-18 div.sk-parallel-item::before {content: \"\";position: absolute;border-left: 1px solid gray;box-sizing: border-box;top: 0;bottom: 0;left: 50%;z-index: -1;}#sk-container-id-18 div.sk-parallel-item {display: flex;flex-direction: column;z-index: 1;position: relative;background-color: white;}#sk-container-id-18 div.sk-parallel-item:first-child::after {align-self: flex-end;width: 50%;}#sk-container-id-18 div.sk-parallel-item:last-child::after {align-self: flex-start;width: 50%;}#sk-container-id-18 div.sk-parallel-item:only-child::after {width: 0;}#sk-container-id-18 div.sk-dashed-wrapped {border: 1px dashed gray;margin: 0 0.4em 0.5em 0.4em;box-sizing: border-box;padding-bottom: 0.4em;background-color: white;}#sk-container-id-18 div.sk-label label {font-family: monospace;font-weight: bold;display: inline-block;line-height: 1.2em;}#sk-container-id-18 div.sk-label-container {text-align: center;}#sk-container-id-18 div.sk-container {/* jupyter's `normalize.less` sets `[hidden] { display: none; }` but bootstrap.min.css set `[hidden] { display: none !important; }` so we also need the `!important` here to be able to override the default hidden behavior on the sphinx rendered scikit-learn.org. See: https://github.com/scikit-learn/scikit-learn/issues/21755 */display: inline-block !important;position: relative;}#sk-container-id-18 div.sk-text-repr-fallback {display: none;}</style><div id=\"sk-container-id-18\" class=\"sk-top-container\"><div class=\"sk-text-repr-fallback\"><pre>Pipeline(steps=[(&#x27;columntransformer&#x27;,\n                 ColumnTransformer(remainder=&#x27;passthrough&#x27;,\n                                   transformers=[(&#x27;onehotencoder&#x27;,\n                                                  OneHotEncoder(sparse=False),\n                                                  [&#x27;City&#x27;])])),\n                (&#x27;standardscaler&#x27;, StandardScaler()), (&#x27;ridge&#x27;, Ridge())])</pre><b>In a Jupyter environment, please rerun this cell to show the HTML representation or trust the notebook. <br />On GitHub, the HTML representation is unable to render, please try loading this page with nbviewer.org.</b></div><div class=\"sk-container\" hidden><div class=\"sk-item sk-dashed-wrapped\"><div class=\"sk-label-container\"><div class=\"sk-label sk-toggleable\"><input class=\"sk-toggleable__control sk-hidden--visually\" id=\"sk-estimator-id-137\" type=\"checkbox\" ><label for=\"sk-estimator-id-137\" class=\"sk-toggleable__label sk-toggleable__label-arrow\">Pipeline</label><div class=\"sk-toggleable__content\"><pre>Pipeline(steps=[(&#x27;columntransformer&#x27;,\n                 ColumnTransformer(remainder=&#x27;passthrough&#x27;,\n                                   transformers=[(&#x27;onehotencoder&#x27;,\n                                                  OneHotEncoder(sparse=False),\n                                                  [&#x27;City&#x27;])])),\n                (&#x27;standardscaler&#x27;, StandardScaler()), (&#x27;ridge&#x27;, Ridge())])</pre></div></div></div><div class=\"sk-serial\"><div class=\"sk-item sk-dashed-wrapped\"><div class=\"sk-label-container\"><div class=\"sk-label sk-toggleable\"><input class=\"sk-toggleable__control sk-hidden--visually\" id=\"sk-estimator-id-138\" type=\"checkbox\" ><label for=\"sk-estimator-id-138\" class=\"sk-toggleable__label sk-toggleable__label-arrow\">columntransformer: ColumnTransformer</label><div class=\"sk-toggleable__content\"><pre>ColumnTransformer(remainder=&#x27;passthrough&#x27;,\n                  transformers=[(&#x27;onehotencoder&#x27;, OneHotEncoder(sparse=False),\n                                 [&#x27;City&#x27;])])</pre></div></div></div><div class=\"sk-parallel\"><div class=\"sk-parallel-item\"><div class=\"sk-item\"><div class=\"sk-label-container\"><div class=\"sk-label sk-toggleable\"><input class=\"sk-toggleable__control sk-hidden--visually\" id=\"sk-estimator-id-139\" type=\"checkbox\" ><label for=\"sk-estimator-id-139\" class=\"sk-toggleable__label sk-toggleable__label-arrow\">onehotencoder</label><div class=\"sk-toggleable__content\"><pre>[&#x27;City&#x27;]</pre></div></div></div><div class=\"sk-serial\"><div class=\"sk-item\"><div class=\"sk-estimator sk-toggleable\"><input class=\"sk-toggleable__control sk-hidden--visually\" id=\"sk-estimator-id-140\" type=\"checkbox\" ><label for=\"sk-estimator-id-140\" class=\"sk-toggleable__label sk-toggleable__label-arrow\">OneHotEncoder</label><div class=\"sk-toggleable__content\"><pre>OneHotEncoder(sparse=False)</pre></div></div></div></div></div></div><div class=\"sk-parallel-item\"><div class=\"sk-item\"><div class=\"sk-label-container\"><div class=\"sk-label sk-toggleable\"><input class=\"sk-toggleable__control sk-hidden--visually\" id=\"sk-estimator-id-141\" type=\"checkbox\" ><label for=\"sk-estimator-id-141\" class=\"sk-toggleable__label sk-toggleable__label-arrow\">remainder</label><div class=\"sk-toggleable__content\"><pre>[&#x27;BHK&#x27;, &#x27;Size&#x27;, &#x27;Bathroom&#x27;]</pre></div></div></div><div class=\"sk-serial\"><div class=\"sk-item\"><div class=\"sk-estimator sk-toggleable\"><input class=\"sk-toggleable__control sk-hidden--visually\" id=\"sk-estimator-id-142\" type=\"checkbox\" ><label for=\"sk-estimator-id-142\" class=\"sk-toggleable__label sk-toggleable__label-arrow\">passthrough</label><div class=\"sk-toggleable__content\"><pre>passthrough</pre></div></div></div></div></div></div></div></div><div class=\"sk-item\"><div class=\"sk-estimator sk-toggleable\"><input class=\"sk-toggleable__control sk-hidden--visually\" id=\"sk-estimator-id-143\" type=\"checkbox\" ><label for=\"sk-estimator-id-143\" class=\"sk-toggleable__label sk-toggleable__label-arrow\">StandardScaler</label><div class=\"sk-toggleable__content\"><pre>StandardScaler()</pre></div></div></div><div class=\"sk-item\"><div class=\"sk-estimator sk-toggleable\"><input class=\"sk-toggleable__control sk-hidden--visually\" id=\"sk-estimator-id-144\" type=\"checkbox\" ><label for=\"sk-estimator-id-144\" class=\"sk-toggleable__label sk-toggleable__label-arrow\">Ridge</label><div class=\"sk-toggleable__content\"><pre>Ridge()</pre></div></div></div></div></div></div></div>"
     },
     "execution_count": 347,
     "metadata": {},
     "output_type": "execute_result"
    }
   ],
   "source": [
    "pipe = make_pipeline(column_transform , scaler , ridge)\n",
    "pipe.fit (X_train , y_train)"
   ]
  },
  {
   "cell_type": "code",
   "execution_count": 348,
   "id": "75bd358e",
   "metadata": {
    "pycharm": {
     "name": "#%%\n"
    }
   },
   "outputs": [
    {
     "data": {
      "text/plain": "0.7479856476666886"
     },
     "execution_count": 348,
     "metadata": {},
     "output_type": "execute_result"
    }
   ],
   "source": [
    "y_pred_ridge = pipe.predict(X_test)\n",
    "r2_score(y_test , y_pred_ridge)"
   ]
  },
  {
   "cell_type": "code",
   "execution_count": 349,
   "id": "b9d71f32",
   "metadata": {
    "pycharm": {
     "name": "#%%\n"
    }
   },
   "outputs": [
    {
     "name": "stdout",
     "output_type": "stream",
     "text": [
      "no regularisation: 0.7479516438514412\n",
      "Lasso: 0.7479534174855573\n",
      "Ridge: 0.7479856476666886\n"
     ]
    }
   ],
   "source": [
    "print(\"no regularisation:\" , r2_score(y_test , y_pred_lr))\n",
    "print(\"Lasso:\" , r2_score(y_test , y_pred_lasso))\n",
    "print(\"Ridge:\" , r2_score(y_test, y_pred_ridge))"
   ]
  },
  {
   "cell_type": "code",
   "execution_count": 350,
   "id": "8eab51f2",
   "metadata": {
    "pycharm": {
     "name": "#%%\n"
    }
   },
   "outputs": [],
   "source": [
    "import pickle"
   ]
  },
  {
   "cell_type": "code",
   "execution_count": 351,
   "id": "8c535e0d",
   "metadata": {
    "pycharm": {
     "name": "#%%\n"
    }
   },
   "outputs": [],
   "source": [
    "pickle.dump(pipe, open('ridgeModel.pkl', 'wb'))"
   ]
  }
 ],
 "metadata": {
  "kernelspec": {
   "display_name": "Python 3 (ipykernel)",
   "language": "python",
   "name": "python3"
  },
  "language_info": {
   "codemirror_mode": {
    "name": "ipython",
    "version": 3
   },
   "file_extension": ".py",
   "mimetype": "text/x-python",
   "name": "python",
   "nbconvert_exporter": "python",
   "pygments_lexer": "ipython3",
   "version": "3.9.12"
  }
 },
 "nbformat": 4,
 "nbformat_minor": 5
}